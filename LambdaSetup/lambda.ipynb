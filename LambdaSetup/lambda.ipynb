{
 "cells": [
  {
   "cell_type": "code",
   "execution_count": 1,
   "metadata": {},
   "outputs": [
    {
     "name": "stderr",
     "output_type": "stream",
     "text": [
      "c:\\Users\\sunny\\Desktop\\lambda_package\\venv\\Lib\\site-packages\\tqdm\\auto.py:21: TqdmWarning: IProgress not found. Please update jupyter and ipywidgets. See https://ipywidgets.readthedocs.io/en/stable/user_install.html\n",
      "  from .autonotebook import tqdm as notebook_tqdm\n"
     ]
    }
   ],
   "source": [
    "import boto3\n",
    "import os\n",
    "import uuid\n",
    "from typing import List\n",
    "import json\n",
    "from langchain_community.document_loaders import PyPDFLoader\n",
    "from langchain_text_splitters import RecursiveCharacterTextSplitter\n",
    "from langchain_community.llms import Bedrock\n",
    "from urllib.parse import unquote_plus\n",
    "from pinecone import Pinecone\n",
    "from pinecone import ServerlessSpec\n",
    "\n",
    "def initialization(pinecone_api_key:str):\n",
    "    \n",
    "    try:\n",
    "        #pinecone client\n",
    "        pc = Pinecone(api_key=pinecone_api_key)\n",
    "        index_name = \"insurance-virtual-agent-hybrid\"\n",
    "        #Get the index host\n",
    "        index_response = pc.describe_index(name=index_name)\n",
    "        dns_host = index_response[\"host\"]\n",
    "        index = pc.Index(host=dns_host)\n",
    "        return pc,index\n",
    "    except Exception as e:\n",
    "        print(f\"Error occured in Initialization : {e}\")\n",
    "\n",
    "def document_processing(file_path,policy_number):\n",
    "    #load the pdf file\n",
    "    loader = PyPDFLoader(file_path)\n",
    "    docs = loader.load()\n",
    "    #split the docs\n",
    "    splitter = RecursiveCharacterTextSplitter(\n",
    "        chunk_size = 1000,\n",
    "        chunk_overlap = 200,\n",
    "        length_function = len\n",
    "    )\n",
    "    docs = splitter.split_documents(docs)\n",
    "    \n",
    "    #adding policy number information in the document metadata\n",
    "    for doc in docs:\n",
    "        doc.metadata[\"policy_number\"] = policy_number\n",
    "\n",
    "    return docs[0:2]\n",
    "\n",
    "pinecone_api_key = \"\"\n",
    "pc,index = initialization(pinecone_api_key)\n",
    "policy_number = \"AU1234\"\n",
    "download_path = \"sample_policy_doc_AU1234.pdf\"\n",
    "documents = document_processing(download_path,policy_number)\n",
    "vectors = []\n",
    "for doc in documents:\n",
    "    sparse_embeddings = pc.inference.embed(\n",
    "        model=\"pinecone-sparse-english-v0\",\n",
    "        inputs=[doc.page_content],\n",
    "        parameters={\"input_type\": \"passage\", \"truncate\": \"END\"}\n",
    "    )\n",
    "  \n",
    "   "
   ]
  },
  {
   "cell_type": "code",
   "execution_count": 2,
   "metadata": {},
   "outputs": [
    {
     "data": {
      "text/plain": [
       "EmbeddingsList(\n",
       "  model='pinecone-sparse-english-v0',\n",
       "  vector_type='sparse',\n",
       "  data=[\n",
       "    {'vector_type': sparse, 'sparse_values': [1.8847656, 2.7597656, ..., 2.078125, 0.42382812], 'sparse_indices': [19522071, 58671053, ..., 4061671695, 4243668012]}\n",
       "  ],\n",
       "  usage={'total_tokens': 67}\n",
       ")"
      ]
     },
     "execution_count": 2,
     "metadata": {},
     "output_type": "execute_result"
    }
   ],
   "source": [
    "sparse_embeddings"
   ]
  },
  {
   "cell_type": "code",
   "execution_count": 7,
   "metadata": {},
   "outputs": [
    {
     "data": {
      "text/plain": [
       "[1.8847656,\n",
       " 2.7597656,\n",
       " 1.6796875,\n",
       " 2.3417969,\n",
       " 2.7519531,\n",
       " 1.8505859,\n",
       " 2.1074219,\n",
       " 1.8261719,\n",
       " 2.1269531,\n",
       " 1.5224609,\n",
       " 0.41357422,\n",
       " 1.1777344,\n",
       " 1.4804688,\n",
       " 0.64941406,\n",
       " 0.50927734,\n",
       " 2.0722656,\n",
       " 0.35083008,\n",
       " 1.6455078,\n",
       " 2.2558594,\n",
       " 0.6201172,\n",
       " 1.8076172,\n",
       " 2.5839844,\n",
       " 1.2373047,\n",
       " 2.0546875,\n",
       " 1.34375,\n",
       " 2.6679688,\n",
       " 0.45751953,\n",
       " 0.3720703,\n",
       " 1.1621094,\n",
       " 1.8125,\n",
       " 3.1523438,\n",
       " 2.0566406,\n",
       " 1.0449219,\n",
       " 0.17504883,\n",
       " 2.2695312,\n",
       " 2.3671875,\n",
       " 1.5478516,\n",
       " 1.9169922,\n",
       " 2.4296875,\n",
       " 3.3203125,\n",
       " 0.9453125,\n",
       " 1.7451172,\n",
       " 4.1992188,\n",
       " 0.0,\n",
       " 0.62402344,\n",
       " 0.640625,\n",
       " 2.2539062,\n",
       " 2.078125,\n",
       " 0.42382812]"
      ]
     },
     "execution_count": 7,
     "metadata": {},
     "output_type": "execute_result"
    }
   ],
   "source": [
    "sparse_embeddings.data[0][\"sparse_values\"]"
   ]
  },
  {
   "cell_type": "code",
   "execution_count": 8,
   "metadata": {},
   "outputs": [
    {
     "data": {
      "text/plain": [
       "[19522071,\n",
       " 58671053,\n",
       " 62396946,\n",
       " 264741300,\n",
       " 273066799,\n",
       " 494070171,\n",
       " 613148321,\n",
       " 670727360,\n",
       " 766128868,\n",
       " 963854120,\n",
       " 1009084850,\n",
       " 1026658409,\n",
       " 1061511187,\n",
       " 1150284091,\n",
       " 1234868792,\n",
       " 1265401351,\n",
       " 1299665196,\n",
       " 1475817810,\n",
       " 1520550099,\n",
       " 1732333218,\n",
       " 1813251204,\n",
       " 1852771076,\n",
       " 1954640689,\n",
       " 2219907560,\n",
       " 2295025838,\n",
       " 2430202379,\n",
       " 2523355832,\n",
       " 2621333525,\n",
       " 2737747873,\n",
       " 2942967631,\n",
       " 2968096829,\n",
       " 3098242165,\n",
       " 3131381387,\n",
       " 3165597058,\n",
       " 3292575152,\n",
       " 3319683975,\n",
       " 3417768591,\n",
       " 3455420776,\n",
       " 3510989507,\n",
       " 3597663484,\n",
       " 3649586921,\n",
       " 3701427380,\n",
       " 3753307315,\n",
       " 3789030606,\n",
       " 3965692316,\n",
       " 3973262016,\n",
       " 3982917068,\n",
       " 4061671695,\n",
       " 4243668012]"
      ]
     },
     "execution_count": 8,
     "metadata": {},
     "output_type": "execute_result"
    }
   ],
   "source": [
    "sparse_embeddings.data[0][\"sparse_indices\"]"
   ]
  }
 ],
 "metadata": {
  "kernelspec": {
   "display_name": "Python 3.13.0",
   "language": "python",
   "name": "python3"
  },
  "language_info": {
   "codemirror_mode": {
    "name": "ipython",
    "version": 3
   },
   "file_extension": ".py",
   "mimetype": "text/x-python",
   "name": "python",
   "nbconvert_exporter": "python",
   "pygments_lexer": "ipython3",
   "version": "3.13.0"
  },
  "orig_nbformat": 4,
  "vscode": {
   "interpreter": {
    "hash": "fd0cc5dd69393f73ada85f3089985855309ec159f06c93a7dba73bb48ffa9614"
   }
  }
 },
 "nbformat": 4,
 "nbformat_minor": 2
}
