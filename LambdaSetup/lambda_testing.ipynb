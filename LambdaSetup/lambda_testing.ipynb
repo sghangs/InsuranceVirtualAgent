{
 "cells": [
  {
   "cell_type": "code",
   "execution_count": 1,
   "metadata": {},
   "outputs": [
    {
     "name": "stderr",
     "output_type": "stream",
     "text": [
      "c:\\Users\\sunny\\Desktop\\lambda_package\\venv\\Lib\\site-packages\\tqdm\\auto.py:21: TqdmWarning: IProgress not found. Please update jupyter and ipywidgets. See https://ipywidgets.readthedocs.io/en/stable/user_install.html\n",
      "  from .autonotebook import tqdm as notebook_tqdm\n"
     ]
    }
   ],
   "source": [
    "import boto3\n",
    "import os\n",
    "import uuid\n",
    "from typing import List\n",
    "import json\n",
    "from langchain_community.document_loaders import PyPDFLoader\n",
    "from langchain_text_splitters import RecursiveCharacterTextSplitter\n",
    "from langchain_community.llms import Bedrock\n",
    "from urllib.parse import unquote_plus\n",
    "from pinecone import Pinecone\n",
    "from pinecone import ServerlessSpec\n",
    "\n",
    "def initialization(pinecone_api_key:str):\n",
    "    \n",
    "    try:\n",
    "        #pinecone client\n",
    "        pc = Pinecone(api_key=pinecone_api_key)\n",
    "        index_name = \"insurance-virtual-agent-hybrid\"\n",
    "        #Get the index host\n",
    "        index_response = pc.describe_index(name=index_name)\n",
    "        dns_host = index_response[\"host\"]\n",
    "        index = pc.Index(host=dns_host)\n",
    "        return pc,index\n",
    "    except Exception as e:\n",
    "        print(f\"Error occured in Initialization : {e}\")\n",
    "\n",
    "def document_processing(file_path,policy_number):\n",
    "    #load the pdf file\n",
    "    loader = PyPDFLoader(file_path)\n",
    "    docs = loader.load()\n",
    "    #split the docs\n",
    "    splitter = RecursiveCharacterTextSplitter(\n",
    "        chunk_size = 1000,\n",
    "        chunk_overlap = 200,\n",
    "        length_function = len\n",
    "    )\n",
    "    docs = splitter.split_documents(docs)\n",
    "    \n",
    "    #adding policy number information in the document metadata\n",
    "    for doc in docs:\n",
    "        doc.metadata[\"policy_number\"] = policy_number\n",
    "\n",
    "    return docs[0:2]\n",
    "\n",
    "pinecone_api_key = \"\"\n",
    "pc,index = initialization(pinecone_api_key)\n",
    "policy_number = \"AU1234\"\n",
    "download_path = \"sample_policy_doc_AU1234.pdf\"\n",
    "documents = document_processing(download_path,policy_number)\n",
    "vectors = []\n",
    "for doc in documents:\n",
    "    sparse_embeddings = pc.inference.embed(\n",
    "        model=\"pinecone-sparse-english-v0\",\n",
    "        inputs=[doc.page_content],\n",
    "        parameters={\"input_type\": \"passage\", \"truncate\": \"END\"}\n",
    "    )\n",
    "  \n",
    "   "
   ]
  },
  {
   "cell_type": "code",
   "execution_count": 2,
   "metadata": {},
   "outputs": [
    {
     "data": {
      "text/plain": [
       "EmbeddingsList(\n",
       "  model='pinecone-sparse-english-v0',\n",
       "  vector_type='sparse',\n",
       "  data=[\n",
       "    {'vector_type': sparse, 'sparse_values': [1.8847656, 2.7597656, ..., 2.078125, 0.42382812], 'sparse_indices': [19522071, 58671053, ..., 4061671695, 4243668012]}\n",
       "  ],\n",
       "  usage={'total_tokens': 67}\n",
       ")"
      ]
     },
     "execution_count": 2,
     "metadata": {},
     "output_type": "execute_result"
    }
   ],
   "source": [
    "sparse_embeddings"
   ]
  },
  {
   "cell_type": "code",
   "execution_count": 7,
   "metadata": {},
   "outputs": [
    {
     "data": {
      "text/plain": [
       "[1.8847656,\n",
       " 2.7597656,\n",
       " 1.6796875,\n",
       " 2.3417969,\n",
       " 2.7519531,\n",
       " 1.8505859,\n",
       " 2.1074219,\n",
       " 1.8261719,\n",
       " 2.1269531,\n",
       " 1.5224609,\n",
       " 0.41357422,\n",
       " 1.1777344,\n",
       " 1.4804688,\n",
       " 0.64941406,\n",
       " 0.50927734,\n",
       " 2.0722656,\n",
       " 0.35083008,\n",
       " 1.6455078,\n",
       " 2.2558594,\n",
       " 0.6201172,\n",
       " 1.8076172,\n",
       " 2.5839844,\n",
       " 1.2373047,\n",
       " 2.0546875,\n",
       " 1.34375,\n",
       " 2.6679688,\n",
       " 0.45751953,\n",
       " 0.3720703,\n",
       " 1.1621094,\n",
       " 1.8125,\n",
       " 3.1523438,\n",
       " 2.0566406,\n",
       " 1.0449219,\n",
       " 0.17504883,\n",
       " 2.2695312,\n",
       " 2.3671875,\n",
       " 1.5478516,\n",
       " 1.9169922,\n",
       " 2.4296875,\n",
       " 3.3203125,\n",
       " 0.9453125,\n",
       " 1.7451172,\n",
       " 4.1992188,\n",
       " 0.0,\n",
       " 0.62402344,\n",
       " 0.640625,\n",
       " 2.2539062,\n",
       " 2.078125,\n",
       " 0.42382812]"
      ]
     },
     "execution_count": 7,
     "metadata": {},
     "output_type": "execute_result"
    }
   ],
   "source": [
    "sparse_embeddings.data[0][\"sparse_values\"]"
   ]
  },
  {
   "cell_type": "code",
   "execution_count": 8,
   "metadata": {},
   "outputs": [
    {
     "data": {
      "text/plain": [
       "[19522071,\n",
       " 58671053,\n",
       " 62396946,\n",
       " 264741300,\n",
       " 273066799,\n",
       " 494070171,\n",
       " 613148321,\n",
       " 670727360,\n",
       " 766128868,\n",
       " 963854120,\n",
       " 1009084850,\n",
       " 1026658409,\n",
       " 1061511187,\n",
       " 1150284091,\n",
       " 1234868792,\n",
       " 1265401351,\n",
       " 1299665196,\n",
       " 1475817810,\n",
       " 1520550099,\n",
       " 1732333218,\n",
       " 1813251204,\n",
       " 1852771076,\n",
       " 1954640689,\n",
       " 2219907560,\n",
       " 2295025838,\n",
       " 2430202379,\n",
       " 2523355832,\n",
       " 2621333525,\n",
       " 2737747873,\n",
       " 2942967631,\n",
       " 2968096829,\n",
       " 3098242165,\n",
       " 3131381387,\n",
       " 3165597058,\n",
       " 3292575152,\n",
       " 3319683975,\n",
       " 3417768591,\n",
       " 3455420776,\n",
       " 3510989507,\n",
       " 3597663484,\n",
       " 3649586921,\n",
       " 3701427380,\n",
       " 3753307315,\n",
       " 3789030606,\n",
       " 3965692316,\n",
       " 3973262016,\n",
       " 3982917068,\n",
       " 4061671695,\n",
       " 4243668012]"
      ]
     },
     "execution_count": 8,
     "metadata": {},
     "output_type": "execute_result"
    }
   ],
   "source": [
    "sparse_embeddings.data[0][\"sparse_indices\"]"
   ]
  },
  {
   "cell_type": "markdown",
   "metadata": {},
   "source": [
    "### pymupdf  "
   ]
  },
  {
   "cell_type": "code",
   "execution_count": 1,
   "metadata": {},
   "outputs": [],
   "source": [
    "import pymupdf"
   ]
  },
  {
   "cell_type": "code",
   "execution_count": null,
   "metadata": {},
   "outputs": [],
   "source": [
    "def extract_data(file_path):\n",
    "    text_data=[]\n",
    "    table_data=[]\n",
    "\n",
    "    with pymupdf.open(file_path) as pdf_file:\n",
    "        \n",
    "        #loop through every page in pdf\n",
    "        for page_number in range(len(pdf_file)):\n",
    "            page = pdf_file[page_number]\n",
    "\n",
    "            #get the text on page\n",
    "            text = page.get_text().strip()\n",
    "            text_data.append({'response':text,\"name\":page_number+1})\n",
    "\n",
    "            #Get the tables on page"
   ]
  },
  {
   "cell_type": "code",
   "execution_count": 6,
   "metadata": {},
   "outputs": [
    {
     "name": "stdout",
     "output_type": "stream",
     "text": [
      "Page 1 Text:\n",
      "[['', None, None], ['', '', ''], [None, '', None], [None, '', None], [None, '', None], [None, '', None], [None, '', None], [None, '', None], [None, 'This is a sample Policy document that provides full', None], [None, 'wording for all the covers we offer.', None], [None, '', None], [None, 'All available options are on our website which will enable you to choose the level and type of cover. Once you', None], [None, 'have bought your Policy you will be provided with the documentation specific to what you have requested.', None], [None, '', None], [None, '', None], [None, '', None], [None, '', None], [None, '', None], [None, '', None], [None, '', None], [None, '', None], [None, '', None], [None, '', None], [None, '', None], [None, '', None], [None, '', None], [None, '', None], [None, '', None], [None, '', None], [None, '', None], [None, '', None], [None, '', None], [None, '', None], [None, '', None], [None, '', None], [None, '', None], [None, '', None], [None, '', None], [None, '', None], [None, '', None], [None, '', None], [None, '', None], [None, '', None], [None, '', None], [None, '', None], [None, '', None], ['', None, None]]\n",
      "\n",
      "Page 2 Text:\n",
      "[['Section', 'Page'], ['Buildings 3\\nCovers 3\\nCauses 6\\nContents 9\\nCovers 9\\nCauses 15\\nPersonal Possessions 17\\nEssential Information 19\\nGeneral Conditions 19\\nCancelling Your Cover 22\\nGeneral Exclusions 24\\nDefinitions 26\\nClaims Conditions 29\\nMaking a Complaint 33\\nSharing of Information 35\\nBicycle Cover 36\\nStudent Cover 37\\nHome Assistance 38\\nFamily Legal Protection 46', None]]\n",
      "\n",
      "Page 3 Text:\n",
      "[['', None, None, '', None, None], ['', 'What your policy covers:', '', '', 'What your policy does not cover:', ''], ['', None, None, '', None, None], ['', None, None, '', None, None], ['We will pay you up to the maximum buildings cover\\nlimit for any one claim under buildings cover and\\nthe causes detailed in this section.\\nBuildings cover Limit - please refer to your\\nschedule.', None, None, '', '• Excess: shown in the schedule.', ''], [None, None, None, None, '', None], [None, None, None, None, '• Items listed under ‘General Exclusions’. Refer to', None], [None, None, None, None, 'the Essential Information document.', None], [None, None, None, None, '', None], [None, None, None, None, '• The exclusions listed in this column. These', None], [None, None, None, None, 'exclusions relate to the corresponding cover', None], [None, None, None, None, 'identified in the left column.', None], [None, None, None, None, '', None], ['', None, None, '', None, None]]\n",
      "\n",
      "Page 4 Text:\n",
      "[['', None, None, '', None, None], ['', '', '', '', '', ''], [None, '3. Moving Home', None, None, '', None], [None, 'If you have entered into a contract to sell the', None, None, '', None], [None, 'home, the person buying it will have the full', None, None, '', None], [None, 'protection of your policy for the buildings up to', None, None, '', None], [None, 'the date of completion of the purchase, as long', None, None, '', None], [None, 'as the home is not covered by any other', None, None, '', None], [None, 'insurance.', None, None, '', None], [None, '', None, None, '', None], [None, '4. Keys & locks', None, None, '', None], [None, 'If your keys are lost or stolen we will pay up to', None, None, '', None], [None, 'the limit for any one claim for the cost of', None, None, '', None], [None, 'replacing keys and locks or lock mechanisms to:', None, None, '', None], [None, '• external doors and windows of the home', None, None, '', None], [None, '(but not to a garage or outbuildings);', None, None, '', None], [None, '• a safe within the home;', None, None, '', None], [None, '• an alarm protecting the home.', None, None, '', None], [None, '', None, None, '', None], [None, 'Limit – please refer to your schedule', None, None, '', None], [None, '', None, None, '', None], [None, '5. Alternative Accommodation', None, None, '', None], [None, 'We will pay you up to the limit for any one claim', None, None, '', None], [None, 'for the reasonable cost of alternative', None, None, '', None], [None, 'accommodation for you, your family and your', None, None, '', None], [None, 'domestic pets when your home cannot be lived', None, None, '', None], [None, 'in due to loss or damage covered by this policy..', None, None, '', None], [None, '', None, None, '', None], [None, 'Limit – please refer to your schedule', None, None, '', None], [None, '', None, None, '', None], [None, '', None, None, '', None], [None, '', None, None, '', None], [None, '', None, None, '', None], [None, '', None, None, '', None], [None, '', None, None, '', None], [None, '', None, None, '', None], [None, '', None, None, '', None], [None, '', None, None, '', None], [None, '', None, None, '', None], [None, '', None, None, '', None], [None, '', None, None, '', None], [None, '', None, None, '', None], [None, '', None, None, '', None], [None, '', None, None, '', None], [None, '', None, None, '', None], [None, '', None, None, '', None], [None, '', None, None, '', None], [None, '', None, None, '', None], [None, '', None, None, '', None], [None, '', None, None, '', None], [None, '', None, None, '', None], [None, '', None, None, '', None], ['', None, None, '', None, None]]\n",
      "\n",
      "Page 5 Text:\n",
      "[['', None, None, ''], ['', '', '', 'Your legal liability to pay compensation arising\\ndirectly or indirectly from:\\n• an agreement which imposes a liability on you\\nwhich you would not be under in the absence of\\nsuch agreement;\\n• arising more than seven years after this policy\\nhas expired or been cancelled;\\n• your ownership of any land or buildings other\\nthan the home and its land;\\n• the use of the home for any business, trade,\\nprofession or employment;\\n• death, bodily injury or damage caused by lifts,\\nhoists or motorised vehicles or craft;\\n• rectifying any fault or alleged fault;\\nAny liability which is covered under another Policy.'], [None, '6. Property Owners Liability', None, None], [None, 'We will pay you up to the limit for any one claim', None, None], [None, 'or series of claims arising from any one event or', None, None], [None, 'one source or original cause that you or your', None, None], [None, 'family become legally liable to pay as', None, None], [None, 'compensation (including costs and expenses', None, None], [None, 'agreed by us in writing) occurring during the', None, None], [None, 'period of insurance in respect of accidental:', None, None], [None, '• death, bodily injury or illness of any person', None, None], [None, 'who is not a member of your family residing', None, None], [None, 'with you or an employee of either you or', None, None], [None, 'your family;', None, None], [None, '• damage to property not belonging to or in the', None, None], [None, 'custody or control of you or your family or', None, None], [None, 'domestic staff.', None, None], [None, '', None, None], [None, 'Arising from:', None, None], [None, '• your ownership (but not occupation) of the', None, None], [None, 'buildings;', None, None], [None, '• defective work carried out by you or your', None, None], [None, 'family or on your behalf to any private', None, None], [None, 'residence within the United Kingdom', None, None], [None, 'disposed of by you or your family before the', None, None], [None, 'occurrence of bodily injury or damage in', None, None], [None, 'connection with such private residence.', None, None], [None, '', None, None], [None, 'In the event of your death we will treat your', None, None], [None, 'legal representative as you for liability incurred', None, None], [None, 'by you', None, None], [None, '', None, None], [None, 'Limit – please refer to your schedule', None, None], [None, '', None, None], [None, '', None, None], [None, '', None, None], [None, '', None, None], [None, '', None, None], [None, '', None, None], [None, '', None, None], [None, '', None, None], [None, '', None, None], [None, '', None, None], [None, '', None, None], [None, '', None, None], [None, '', None, None], [None, '', None, None], [None, '', None, None], [None, '', None, None], [None, '', None, None], [None, '', None, None], [None, '', None, None], ['', None, None, '']]\n",
      "\n"
     ]
    }
   ],
   "source": [
    "file_path = \"sample_policy_doc_AU1234.pdf\"\n",
    "with pymupdf.open(file_path) as pdf_file:\n",
    "    for page_number in range(5):\n",
    "        page = pdf_file[page_number]\n",
    "        \n",
    "        # Extract text from the page\n",
    "        text = page.find_tables()\n",
    "        if text:\n",
    "            text = text[0].extract()\n",
    "        else:\n",
    "            text = \"No table found on this page.\"\n",
    "       \n",
    "        print(f\"Page {page_number + 1} Text:\\n{text}\\n\")"
   ]
  },
  {
   "cell_type": "code",
   "execution_count": null,
   "metadata": {},
   "outputs": [],
   "source": [
    "def document_processing(file_path,policy_number):\n",
    "    #load the pdf file\n",
    "    loader = PyPDFLoader(file_path)\n",
    "    docs = loader.load()\n",
    "    #split the docs\n",
    "    splitter = RecursiveCharacterTextSplitter(\n",
    "        chunk_size = 1000,\n",
    "        chunk_overlap = 200,\n",
    "        length_function = len\n",
    "    )\n",
    "    docs = splitter.split_documents(docs)\n",
    "    \n",
    "    #adding policy number information in the document metadata\n",
    "    for doc in docs:\n",
    "        doc.metadata[\"policy_number\"] = policy_number\n",
    "\n",
    "    return docs[0:2]"
   ]
  },
  {
   "cell_type": "code",
   "execution_count": null,
   "metadata": {},
   "outputs": [],
   "source": [
    "policy_number = \"AU1234\"\n",
    "download_path = \"sample_policy_doc_AU1234.pdf\""
   ]
  },
  {
   "cell_type": "markdown",
   "metadata": {},
   "source": [
    "### Llama parser"
   ]
  },
  {
   "cell_type": "code",
   "execution_count": 20,
   "metadata": {},
   "outputs": [],
   "source": [
    "import boto3\n",
    "import json"
   ]
  },
  {
   "cell_type": "code",
   "execution_count": 22,
   "metadata": {},
   "outputs": [
    {
     "name": "stdout",
     "output_type": "stream",
     "text": [
      "{'llama_api_key': '{\"llama_api_key\":\"llx-8d0QLwW88xcToIhwFUqeEan8bVlmy6zqrZFgquVmFTglyxcR\"}', 'pinecone_key': '{\"pinecone_key\":\"pcsk_6BsWwy_5JoCtkwshBx812WztFtrsCSB7Z3ReV8bB6Q39N93ygwZ8qt6EmEE6sZJkEKnZ9y\"}'}\n"
     ]
    }
   ],
   "source": [
    "secret_list = [\"pinecone_key\",\"llama_api_key\"]\n",
    "region_name = \"us-east-1\"\n",
    "# Create a Secrets Manager client\n",
    "session = boto3.session.Session()\n",
    "client = session.client(\n",
    "    service_name='secretsmanager',\n",
    "    region_name=region_name\n",
    ")\n",
    "try:\n",
    "    response = client.batch_get_secret_value(\n",
    "        SecretIdList=secret_list\n",
    "    )\n",
    "except ClientError as e:\n",
    "    raise e\n",
    "\n",
    "secrets = {item['Name']: item['SecretString'] for item in response['SecretValues']}\n",
    "\n",
    "print(secrets)"
   ]
  },
  {
   "cell_type": "code",
   "execution_count": 24,
   "metadata": {},
   "outputs": [],
   "source": [
    "pinecone_key_data = json.loads(secrets[\"pinecone_key\"])\n",
    "llama_api_data = json.loads(secrets[\"llama_api_key\"])"
   ]
  },
  {
   "cell_type": "code",
   "execution_count": 27,
   "metadata": {},
   "outputs": [
    {
     "name": "stdout",
     "output_type": "stream",
     "text": [
      "{'pinecone_key': 'pcsk_6BsWwy_5JoCtkwshBx812WztFtrsCSB7Z3ReV8bB6Q39N93ygwZ8qt6EmEE6sZJkEKnZ9y'}\n"
     ]
    }
   ],
   "source": [
    "print(pinecone_key_data)"
   ]
  },
  {
   "cell_type": "code",
   "execution_count": 28,
   "metadata": {},
   "outputs": [
    {
     "name": "stdout",
     "output_type": "stream",
     "text": [
      "pcsk_6BsWwy_5JoCtkwshBx812WztFtrsCSB7Z3ReV8bB6Q39N93ygwZ8qt6EmEE6sZJkEKnZ9y\n"
     ]
    }
   ],
   "source": [
    "pinecone_api_key = pinecone_key_data[\"pinecone_key\"]\n",
    "print(pinecone_api_key)"
   ]
  },
  {
   "cell_type": "code",
   "execution_count": 16,
   "metadata": {},
   "outputs": [],
   "source": [
    "pinecone_api_key = secrets[\"pinecone_key\"]\n",
    "llama_api_key = secrets[\"llama_api_key\"]"
   ]
  },
  {
   "cell_type": "code",
   "execution_count": 17,
   "metadata": {},
   "outputs": [
    {
     "name": "stdout",
     "output_type": "stream",
     "text": [
      "{\"pinecone_key\":\"pcsk_6BsWwy_5JoCtkwshBx812WztFtrsCSB7Z3ReV8bB6Q39N93ygwZ8qt6EmEE6sZJkEKnZ9y\"}\n",
      "{\"llama_api_key\":\"llx-8d0QLwW88xcToIhwFUqeEan8bVlmy6zqrZFgquVmFTglyxcR\"}\n"
     ]
    }
   ],
   "source": [
    "print(pinecone_api_key)\n",
    "print(llama_api_key)"
   ]
  },
  {
   "cell_type": "code",
   "execution_count": 18,
   "metadata": {},
   "outputs": [
    {
     "data": {
      "text/plain": [
       "str"
      ]
     },
     "execution_count": 18,
     "metadata": {},
     "output_type": "execute_result"
    }
   ],
   "source": [
    "type(pinecone_api_key)"
   ]
  }
 ],
 "metadata": {
  "kernelspec": {
   "display_name": "Python 3",
   "language": "python",
   "name": "python3"
  },
  "language_info": {
   "codemirror_mode": {
    "name": "ipython",
    "version": 3
   },
   "file_extension": ".py",
   "mimetype": "text/x-python",
   "name": "python",
   "nbconvert_exporter": "python",
   "pygments_lexer": "ipython3",
   "version": "3.13.0"
  },
  "orig_nbformat": 4
 },
 "nbformat": 4,
 "nbformat_minor": 2
}
