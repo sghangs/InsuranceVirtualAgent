{
 "cells": [
  {
   "cell_type": "code",
   "execution_count": 1,
   "id": "0198add1",
   "metadata": {},
   "outputs": [
    {
     "name": "stderr",
     "output_type": "stream",
     "text": [
      "c:\\Users\\sunny\\Desktop\\temp_env\\env2\\venv\\Lib\\site-packages\\tqdm\\auto.py:21: TqdmWarning: IProgress not found. Please update jupyter and ipywidgets. See https://ipywidgets.readthedocs.io/en/stable/user_install.html\n",
      "  from .autonotebook import tqdm as notebook_tqdm\n"
     ]
    }
   ],
   "source": [
    "from langchain_community.document_loaders import PyPDFLoader\n",
    "from langchain_text_splitters import RecursiveCharacterTextSplitter\n",
    "from langchain.vectorstores import FAISS\n",
    "from langchain_groq import ChatGroq\n",
    "from langchain_huggingface import HuggingFaceEmbeddings\n",
    "from langchain_community.document_loaders import UnstructuredPDFLoader\n",
    "import os\n",
    "import sys\n",
    "from dotenv import load_dotenv\n",
    "load_dotenv()\n",
    "\n",
    "groq_api_key=os.getenv(\"GROQ_API_KEY\")\n",
    "llm=ChatGroq(groq_api_key=groq_api_key,model_name=\"Llama3-8b-8192\")\n",
    "embeddings=HuggingFaceEmbeddings(model_name=\"all-MiniLM-L6-v2\")"
   ]
  },
  {
   "cell_type": "code",
   "execution_count": 2,
   "id": "4380943e",
   "metadata": {},
   "outputs": [],
   "source": [
    "os.environ[\"OPENAI_API_KEY\"]= os.getenv(\"OPENAI_API_KEY\")\n",
    "os.environ[\"LLAMA_CLOUD_API_KEY\"]= os.getenv(\"LLAMA_CLOUD_API_KEY\")"
   ]
  },
  {
   "cell_type": "code",
   "execution_count": 3,
   "id": "4e34933d",
   "metadata": {},
   "outputs": [
    {
     "name": "stderr",
     "output_type": "stream",
     "text": [
      "Parsing files:   0%|          | 0/1 [00:00<?, ?it/s]"
     ]
    },
    {
     "name": "stdout",
     "output_type": "stream",
     "text": [
      "Started parsing the file under job_id ba33feed-4218-447a-b46a-da3f76754c68\n"
     ]
    },
    {
     "name": "stderr",
     "output_type": "stream",
     "text": [
      "Parsing files: 100%|██████████| 1/1 [00:50<00:00, 50.82s/it]\n"
     ]
    }
   ],
   "source": [
    "from llama_cloud_services import LlamaParse\n",
    "\n",
    "parser = LlamaParse(\n",
    "    result_type=\"markdown\",\n",
    "    system_prompt_append=(\n",
    "        \"\"\"This is an Homeowner insurance policy document. If any page does not contain\n",
    "        headings, find from the previous page for the context. Also, document should clearly\n",
    "        state what should be covered and what should not be covered in the respective\n",
    "        categories. Categories can be found in the headings of the pages with largest\n",
    "        font size.\"\"\"\n",
    "    ),\n",
    "    use_vendor_multimodal_model=True,\n",
    "    vendor_multimodal_model_name=\"openai-gpt4o\",\n",
    "    show_progress=True,\n",
    ")\n",
    "\n",
    "files = [\"sample_policy_doc_AU1234.pdf\"]  # get all files from the claims/ directory\n",
    "md_json_objs = parser.get_json_result(\n",
    "    files\n",
    ")  # extract markdown data for insurance claim document\n",
    " "
   ]
  },
  {
   "cell_type": "code",
   "execution_count": 4,
   "id": "7fb10fef",
   "metadata": {},
   "outputs": [],
   "source": [
    "md_json_list = []\n",
    "for obj in md_json_objs:\n",
    "    md_json_list.extend(obj[\"pages\"])"
   ]
  },
  {
   "cell_type": "code",
   "execution_count": 5,
   "id": "e4f02d6a",
   "metadata": {},
   "outputs": [],
   "source": [
    "from langchain.schema import Document\n",
    "document_list = [Document(page_content=doc[\"md\"],\n",
    "                          metadata={\"page_number\": i+1}) for i, doc in enumerate(md_json_list)]"
   ]
  },
  {
   "cell_type": "code",
   "execution_count": 17,
   "id": "59e52ba6",
   "metadata": {},
   "outputs": [
    {
     "name": "stdout",
     "output_type": "stream",
     "text": [
      "Document objects created successfully\n"
     ]
    }
   ],
   "source": [
    "policy_number = \"AU1234\"\n",
    "document_list = [Document(page_content=doc[\"md\"],metadata={\"page_number\": i+1}) for i, doc in enumerate(md_json_list)]\n",
    "print(\"Document objects created successfully\")\n",
    "\n",
    "#adding policy number information in the document metadata\n",
    "for doc in document_list:\n",
    "    doc.metadata[\"policy_number\"] = policy_number"
   ]
  },
  {
   "cell_type": "code",
   "execution_count": 12,
   "id": "b95d1066",
   "metadata": {},
   "outputs": [],
   "source": [
    "import boto3\n",
    "import os\n",
    "import uuid\n",
    "from typing import List\n",
    "import json\n",
    "from urllib.parse import unquote_plus\n",
    "from pinecone import Pinecone"
   ]
  },
  {
   "cell_type": "code",
   "execution_count": 13,
   "id": "1cbaaac2",
   "metadata": {},
   "outputs": [],
   "source": [
    "pinecone_api_key=\"pcsk_2mM5fx_9gfowJX1vxPtpM4ModN4NubrZh6T3YyoTp4x6XUMiShMFU1pReuGTUmUyeqtHYk\"\n"
   ]
  },
  {
   "cell_type": "code",
   "execution_count": 15,
   "id": "a64fa424",
   "metadata": {},
   "outputs": [],
   "source": [
    "pc = Pinecone(api_key=pinecone_api_key)\n",
    "policy_number = \"AU1234\""
   ]
  },
  {
   "cell_type": "code",
   "execution_count": 20,
   "id": "2a3ac2d6",
   "metadata": {},
   "outputs": [],
   "source": [
    "dense_index_name = \"insurance-virtual-agent-dense\"\n",
    "sparse_index_name = \"insurance-virtual-agent-sparse\"\n",
    "dense_index_response = pc.describe_index(name=dense_index_name)\n",
    "dense_dns_host = dense_index_response[\"host\"]\n",
    "dense_index = pc.Index(host=dense_dns_host)\n",
    "\n",
    "sparse_index_response = pc.describe_index(name=sparse_index_name)\n",
    "sparse_dns_host = sparse_index_response[\"host\"]\n",
    "sparse_index = pc.Index(host=sparse_dns_host)"
   ]
  },
  {
   "cell_type": "code",
   "execution_count": 19,
   "id": "ff5f54c0",
   "metadata": {},
   "outputs": [
    {
     "name": "stdout",
     "output_type": "stream",
     "text": [
      "Pinecone dense index created successfully\n"
     ]
    }
   ],
   "source": [
    "if not pc.has_index(dense_index_name):\n",
    "    pc.create_index_for_model(\n",
    "        name=dense_index_name,\n",
    "        cloud=\"aws\",\n",
    "        region=\"us-east-1\",\n",
    "        embed={\n",
    "            \"model\":\"llama-text-embed-v2\",\n",
    "            \"field_map\":{\"text\": \"chunk_text\"}\n",
    "        }\n",
    "\n",
    "    )\n",
    "    print(\"Pinecone dense index created successfully\")\n",
    "else:\n",
    "    print(f\"Pinecone index {dense_index_name} has already created\")"
   ]
  },
  {
   "cell_type": "code",
   "execution_count": 21,
   "id": "2fbb183f",
   "metadata": {},
   "outputs": [
    {
     "name": "stdout",
     "output_type": "stream",
     "text": [
      "Starting embedding generation\n"
     ]
    }
   ],
   "source": [
    "#store embeddings in pinecone\n",
    "vectors = []\n",
    "print(\"Starting embedding generation\")\n",
    "for doc in document_list:\n",
    "    vectors.append({\n",
    "        \"id\":str(uuid.uuid4()),\n",
    "        \"chunk_text\":doc.page_content,\n",
    "        \"policy_number\":policy_number\n",
    "    })\n",
    "\n",
    "#upsert the records into hybrid index\n",
    "dense_upsert_response = dense_index.upsert_records(\n",
    "    \"policy-documents\",\n",
    "    vectors\n",
    ")\n",
    "\n",
    "sparse_upsert_response = sparse_index.upsert_records(\n",
    "    \"policy-documents\",\n",
    "    vectors\n",
    ")\n"
   ]
  },
  {
   "cell_type": "code",
   "execution_count": 22,
   "id": "4a22d3e0",
   "metadata": {},
   "outputs": [
    {
     "ename": "TypeError",
     "evalue": "'NoneType' object is not subscriptable",
     "output_type": "error",
     "traceback": [
      "\u001b[31m---------------------------------------------------------------------------\u001b[39m",
      "\u001b[31mTypeError\u001b[39m                                 Traceback (most recent call last)",
      "\u001b[36mCell\u001b[39m\u001b[36m \u001b[39m\u001b[32mIn[22]\u001b[39m\u001b[32m, line 1\u001b[39m\n\u001b[32m----> \u001b[39m\u001b[32m1\u001b[39m \u001b[38;5;28mprint\u001b[39m(\u001b[33m\"\u001b[39m\u001b[33mDense Upsert response is : \u001b[39m\u001b[33m\"\u001b[39m, \u001b[43mdense_upsert_response\u001b[49m\u001b[43m[\u001b[49m\u001b[33;43m\"\u001b[39;49m\u001b[33;43mstatus_code\u001b[39;49m\u001b[33;43m\"\u001b[39;49m\u001b[43m]\u001b[49m)\n\u001b[32m      2\u001b[39m \u001b[38;5;28mprint\u001b[39m(\u001b[33mf\u001b[39m\u001b[33m\"\u001b[39m\u001b[33mTotal number of dense vectors are loaded in database : \u001b[39m\u001b[38;5;132;01m{\u001b[39;00mdense_upsert_response[\u001b[33m\"\u001b[39m\u001b[33mupsertedCount\u001b[39m\u001b[33m\"\u001b[39m]\u001b[38;5;132;01m}\u001b[39;00m\u001b[33m\"\u001b[39m)\n\u001b[32m      3\u001b[39m \u001b[38;5;28mprint\u001b[39m(\u001b[33m\"\u001b[39m\u001b[33mUpsert response is : \u001b[39m\u001b[33m\"\u001b[39m, sparse_upsert_response.get(\u001b[33m\"\u001b[39m\u001b[33mstatus_code\u001b[39m\u001b[33m\"\u001b[39m))\n",
      "\u001b[31mTypeError\u001b[39m: 'NoneType' object is not subscriptable"
     ]
    }
   ],
   "source": [
    "print(\"Dense Upsert response is : \", dense_upsert_response[\"status_code\"])\n",
    "print(f\"Total number of dense vectors are loaded in database : {dense_upsert_response[\"upsertedCount\"]}\")\n",
    "print(\"Upsert response is : \", sparse_upsert_response.get(\"status_code\"))\n",
    "print(f\"Total number of sparse vectors are loaded in database : {sparse_upsert_response[\"upsertedCount\"]}\")"
   ]
  }
 ],
 "metadata": {
  "kernelspec": {
   "display_name": "Python 3",
   "language": "python",
   "name": "python3"
  },
  "language_info": {
   "codemirror_mode": {
    "name": "ipython",
    "version": 3
   },
   "file_extension": ".py",
   "mimetype": "text/x-python",
   "name": "python",
   "nbconvert_exporter": "python",
   "pygments_lexer": "ipython3",
   "version": "3.12.0"
  }
 },
 "nbformat": 4,
 "nbformat_minor": 5
}
