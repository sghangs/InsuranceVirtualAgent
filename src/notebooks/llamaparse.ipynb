{
 "cells": [
  {
   "cell_type": "code",
   "execution_count": 1,
   "id": "0198add1",
   "metadata": {},
   "outputs": [
    {
     "name": "stderr",
     "output_type": "stream",
     "text": [
      "c:\\Users\\sunny\\Desktop\\temp_env\\env2\\venv\\Lib\\site-packages\\tqdm\\auto.py:21: TqdmWarning: IProgress not found. Please update jupyter and ipywidgets. See https://ipywidgets.readthedocs.io/en/stable/user_install.html\n",
      "  from .autonotebook import tqdm as notebook_tqdm\n"
     ]
    }
   ],
   "source": [
    "from langchain_community.document_loaders import PyPDFLoader\n",
    "from langchain_text_splitters import RecursiveCharacterTextSplitter\n",
    "from langchain.vectorstores import FAISS\n",
    "from langchain_groq import ChatGroq\n",
    "from langchain_huggingface import HuggingFaceEmbeddings\n",
    "from langchain_community.document_loaders import UnstructuredPDFLoader\n",
    "import os\n",
    "import sys\n",
    "from dotenv import load_dotenv\n",
    "load_dotenv()\n",
    "\n",
    "groq_api_key=os.getenv(\"GROQ_API_KEY\")\n",
    "llm=ChatGroq(groq_api_key=groq_api_key,model_name=\"Llama3-8b-8192\")\n",
    "embeddings=HuggingFaceEmbeddings(model_name=\"all-MiniLM-L6-v2\")"
   ]
  },
  {
   "cell_type": "code",
   "execution_count": 2,
   "id": "4380943e",
   "metadata": {},
   "outputs": [],
   "source": [
    "os.environ[\"OPENAI_API_KEY\"]= os.getenv(\"OPENAI_API_KEY\")\n",
    "os.environ[\"LLAMA_CLOUD_API_KEY\"]= os.getenv(\"LLAMA_CLOUD_API_KEY\")"
   ]
  },
  {
   "cell_type": "code",
   "execution_count": 3,
   "id": "4e34933d",
   "metadata": {},
   "outputs": [
    {
     "name": "stderr",
     "output_type": "stream",
     "text": [
      "Parsing files:   0%|          | 0/1 [00:00<?, ?it/s]"
     ]
    },
    {
     "name": "stdout",
     "output_type": "stream",
     "text": [
      "Started parsing the file under job_id ba33feed-4218-447a-b46a-da3f76754c68\n"
     ]
    },
    {
     "name": "stderr",
     "output_type": "stream",
     "text": [
      "Parsing files: 100%|██████████| 1/1 [00:50<00:00, 50.82s/it]\n"
     ]
    }
   ],
   "source": [
    "from llama_cloud_services import LlamaParse\n",
    "\n",
    "parser = LlamaParse(\n",
    "    result_type=\"markdown\",\n",
    "    system_prompt_append=(\n",
    "        \"\"\"This is an Homeowner insurance policy document. If any page does not contain\n",
    "        headings, find from the previous page for the context. Also, document should clearly\n",
    "        state what should be covered and what should not be covered in the respective\n",
    "        categories. Categories can be found in the headings of the pages with largest\n",
    "        font size.\"\"\"\n",
    "    ),\n",
    "    use_vendor_multimodal_model=True,\n",
    "    vendor_multimodal_model_name=\"openai-gpt4o\",\n",
    "    show_progress=True,\n",
    ")\n",
    "\n",
    "files = [\"sample_policy_doc_AU1234.pdf\"]  # get all files from the claims/ directory\n",
    "md_json_objs = parser.get_json_result(\n",
    "    files\n",
    ")  # extract markdown data for insurance claim document\n",
    " "
   ]
  },
  {
   "cell_type": "code",
   "execution_count": 4,
   "id": "7fb10fef",
   "metadata": {},
   "outputs": [],
   "source": [
    "md_json_list = []\n",
    "for obj in md_json_objs:\n",
    "    md_json_list.extend(obj[\"pages\"])"
   ]
  },
  {
   "cell_type": "code",
   "execution_count": 5,
   "id": "e4f02d6a",
   "metadata": {},
   "outputs": [],
   "source": [
    "from langchain.schema import Document\n",
    "document_list = [Document(page_content=doc[\"md\"],\n",
    "                          metadata={\"page_number\": i+1}) for i, doc in enumerate(md_json_list)]"
   ]
  },
  {
   "cell_type": "code",
   "execution_count": 11,
   "id": "a64fa424",
   "metadata": {},
   "outputs": [
    {
     "name": "stdout",
     "output_type": "stream",
     "text": [
      "page_content='# Home Insurance\n",
      "\n",
      "2. **Sudden and unexpected water leaking from or freezing in any washing machine, dishwasher, fridge, freezer or plumbed in domestic water, drainage or heating installation**\n",
      "\n",
      "   We will also pay up to the limit for any one claim for necessary and reasonable costs that you incur in finding the source of the damage to the home. This includes reinstating any wall, floor, ceiling, drive, fence or path removed or damaged during the search.\n",
      "\n",
      "   **Limit** – please refer to your schedule\n",
      "\n",
      "   **Loss or damage:**\n",
      "   - to the fittings/installation/appliances themselves is only covered if the damage has happened as a result of an insured cause or cover;\n",
      "   - while your home is unoccupied or unfurnished;\n",
      "\n",
      "   The cost of repair of the source of the damage unless the cause is covered elsewhere in this policy.\n",
      "\n",
      "3. **Theft or attempted theft**\n",
      "\n",
      "   **Loss or damage:**\n",
      "   - while your home is unoccupied or unfurnished;\n",
      "   - caused by you, your family, your domestic staff, lodgers, paying guests or tenants, and any person that has been allowed into the home.\n",
      "\n",
      "4. **Oil leaking from or freezing in a fixed oil-fired heating installation, including smoke and smudge damage by vaporisation due to a defective oil-fired heating installation and damage to soil caused by the leaking oil.**\n",
      "\n",
      "   We will also pay up to the limit for any one claim for necessary and reasonable costs that you incur in finding the source of the damage to the home. This includes reinstating any wall, floor, ceiling, drive, fence or path removed or damaged during the search.\n",
      "\n",
      "   **Limit** – please refer to your schedule\n",
      "\n",
      "   **Loss or damage:**\n",
      "   - to the installation itself is only covered if the damage has happened as a result of an insured cause or cover;\n",
      "   - while your home is unoccupied or unfurnished.\n",
      "\n",
      "   The cost of repair of the source of the damage unless the cause is covered elsewhere in this policy.\n",
      "\n",
      "5. **Fire, smoke, explosion, lightning or earthquake**\n",
      "\n",
      "   Smoke damage caused by smog, agricultural or industrial operations or smoke damage that happens gradually from repeated exposure.' metadata={'page_number': 7}\n"
     ]
    }
   ],
   "source": [
    "print(document_list[6])"
   ]
  },
  {
   "cell_type": "code",
   "execution_count": 11,
   "id": "4841e9ed",
   "metadata": {},
   "outputs": [],
   "source": [
    "# extract list of pages for insurance claim doc\n",
    "md_json_list = []\n",
    "for obj in md_json_objs:\n",
    "    md_json_list.extend(obj[\"pages\"])"
   ]
  },
  {
   "cell_type": "code",
   "execution_count": null,
   "id": "4ff2d48b",
   "metadata": {},
   "outputs": [],
   "source": []
  },
  {
   "cell_type": "code",
   "execution_count": 21,
   "id": "0408cbe8",
   "metadata": {},
   "outputs": [
    {
     "data": {
      "text/plain": [
       "{'page': 1,\n",
       " 'md': 'This is a sample home insurance policy document from AXA. It provides full wording for all the covers they offer. The document mentions that all available options are on their website, allowing you to choose the level and type of cover. Once a policy is purchased, specific documentation will be provided.',\n",
       " 'images': [{'name': 'page_1.jpg',\n",
       "   'height': 0,\n",
       "   'width': 0,\n",
       "   'x': 0,\n",
       "   'y': 0,\n",
       "   'type': 'full_page_screenshot',\n",
       "   'path': 'output/data_images\\\\688df016-02a3-4e53-84fa-afd657620cd1-page_1.jpg',\n",
       "   'job_id': '688df016-02a3-4e53-84fa-afd657620cd1',\n",
       "   'original_file_path': 'sample_policy_doc_AU1234.pdf',\n",
       "   'page_number': 1}],\n",
       " 'charts': [],\n",
       " 'items': [{'type': 'text',\n",
       "   'value': 'This is a sample home insurance policy document from AXA. It provides full wording for all the covers they offer. The document mentions that all available options are on their website, allowing you to choose the level and type of cover. Once a policy is purchased, specific documentation will be provided.',\n",
       "   'md': 'This is a sample home insurance policy document from AXA. It provides full wording for all the covers they offer. The document mentions that all available options are on their website, allowing you to choose the level and type of cover. Once a policy is purchased, specific documentation will be provided.'}],\n",
       " 'status': 'OK',\n",
       " 'originalOrientationAngle': 0,\n",
       " 'links': [],\n",
       " 'triggeredAutoMode': False,\n",
       " 'parsingMode': 'multimodal-openai-gpt4o',\n",
       " 'structuredData': None,\n",
       " 'noStructuredContent': False,\n",
       " 'noTextContent': False}"
      ]
     },
     "execution_count": 21,
     "metadata": {},
     "output_type": "execute_result"
    }
   ],
   "source": [
    "md_json_list[0]"
   ]
  },
  {
   "cell_type": "code",
   "execution_count": 27,
   "id": "1c4e6c3c",
   "metadata": {},
   "outputs": [],
   "source": [
    "docs = [doc[\"md\"] for doc in md_json_list]"
   ]
  },
  {
   "cell_type": "code",
   "execution_count": 28,
   "id": "8c8e53f1",
   "metadata": {},
   "outputs": [
    {
     "name": "stdout",
     "output_type": "stream",
     "text": [
      "This document is a section of a home insurance policy detailing coverage for accidental damage and causes of loss or damage. Here's a summary:\n",
      "\n",
      "### Accidental Damage (Optional Extra)\n",
      "- **Coverage Includes:**\n",
      "  - Damage to cables, drains, pipes, or tanks for which you are responsible.\n",
      "  - Costs for finding the source of damage, including reinstating any removed or damaged structures.\n",
      "  - Accidental damage to buildings, including breakage of fixed glass, ceramic hobs, and sanitary ware.\n",
      "\n",
      "- **Exclusions:**\n",
      "  - Damage due to inherent defects, frost, faulty workmanship, insects, pets, mechanical failure, and certain external structures unless the home is also damaged.\n",
      "\n",
      "### Causes\n",
      "- **Covered:**\n",
      "  - Loss or damage to buildings from storms or floods.\n",
      "\n",
      "- **Not Covered:**\n",
      "  - Damage to gates, hedges, fences, and certain external structures unless the home is also damaged.\n",
      "  - Storm damage to radio or television aerials or satellite dishes.\n",
      "\n",
      "The policy schedule will indicate if the accidental damage section is included.\n"
     ]
    }
   ],
   "source": [
    "print(docs[5])"
   ]
  },
  {
   "cell_type": "code",
   "execution_count": null,
   "id": "8c63b0e1",
   "metadata": {},
   "outputs": [],
   "source": [
    "from langchain_core.documents import Document\n",
    "\n",
    "document_list = [Document(page_content=doc[\"md\"],metadata={\"page_number\": i+1}) for i, doc in enumerate(md_json_list)]"
   ]
  },
  {
   "cell_type": "code",
   "execution_count": 26,
   "id": "ebfc2786",
   "metadata": {},
   "outputs": [
    {
     "data": {
      "text/plain": [
       "58"
      ]
     },
     "execution_count": 26,
     "metadata": {},
     "output_type": "execute_result"
    }
   ],
   "source": [
    "len(docs)"
   ]
  }
 ],
 "metadata": {
  "kernelspec": {
   "display_name": "Python 3",
   "language": "python",
   "name": "python3"
  },
  "language_info": {
   "codemirror_mode": {
    "name": "ipython",
    "version": 3
   },
   "file_extension": ".py",
   "mimetype": "text/x-python",
   "name": "python",
   "nbconvert_exporter": "python",
   "pygments_lexer": "ipython3",
   "version": "3.12.0"
  }
 },
 "nbformat": 4,
 "nbformat_minor": 5
}
