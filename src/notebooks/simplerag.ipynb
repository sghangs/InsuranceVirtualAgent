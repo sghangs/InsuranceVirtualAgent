{
 "cells": [
  {
   "cell_type": "markdown",
   "metadata": {},
   "source": [
    "#### Simple RAG using FAISS"
   ]
  },
  {
   "cell_type": "code",
   "execution_count": 3,
   "metadata": {},
   "outputs": [
    {
     "data": {
      "text/plain": [
       "True"
      ]
     },
     "execution_count": 3,
     "metadata": {},
     "output_type": "execute_result"
    }
   ],
   "source": [
    "from langchain_community.document_loaders import PyPDFLoader\n",
    "from langchain_text_splitters import RecursiveCharacterTextSplitter\n",
    "from langchain.vectorstores import FAISS\n",
    "from langchain_groq import ChatGroq\n",
    "from langchain_huggingface import HuggingFaceEmbeddings\n",
    "import os\n",
    "import sys\n",
    "from dotenv import load_dotenv\n",
    "load_dotenv()"
   ]
  },
  {
   "cell_type": "code",
   "execution_count": 4,
   "metadata": {},
   "outputs": [],
   "source": [
    "groq_api_key=os.getenv(\"GROQ_API_KEY\")\n",
    "llm=ChatGroq(groq_api_key=groq_api_key,model_name=\"Llama3-8b-8192\")\n",
    "\n",
    "path=\"sample_policy_doc_AU1234.pdf\""
   ]
  },
  {
   "cell_type": "code",
   "execution_count": 5,
   "metadata": {},
   "outputs": [
    {
     "name": "stderr",
     "output_type": "stream",
     "text": [
      "c:\\Users\\sunny\\Desktop\\temp_env\\env1\\venv\\Lib\\site-packages\\tqdm\\auto.py:21: TqdmWarning: IProgress not found. Please update jupyter and ipywidgets. See https://ipywidgets.readthedocs.io/en/stable/user_install.html\n",
      "  from .autonotebook import tqdm as notebook_tqdm\n"
     ]
    }
   ],
   "source": [
    "loader=PyPDFLoader(path)\n",
    "docs=loader.load()\n",
    "\n",
    "#Split the documents into chunks\n",
    "splitter=RecursiveCharacterTextSplitter(\n",
    "    chunk_size=500,\n",
    "    chunk_overlap=50,\n",
    "    length_function=len\n",
    ")\n",
    "\n",
    "texts=splitter.split_documents(docs)\n",
    "\n",
    "\n",
    "#Embeddings \n",
    "embeddings=HuggingFaceEmbeddings(model_name=\"all-MiniLM-L6-v2\")\n",
    "\n",
    "#Create vector store\n",
    "vectorstore=FAISS.from_documents(texts,embeddings)"
   ]
  },
  {
   "cell_type": "code",
   "execution_count": 8,
   "metadata": {},
   "outputs": [
    {
     "data": {
      "text/plain": [
       "Document(metadata={'producer': 'Adobe PDF Library 10.0', 'creator': 'Acrobat PDFMaker 10.1 for Word', 'creationdate': '2015-08-11T15:48:23+01:00', 'author': 'esutton', 'company': 'Swiftcover Insurance Services Ltd.', 'moddate': '2015-08-11T15:48:40+01:00', 'sourcemodified': 'D:20150811125127', 'title': 'This is a sample Policy document that provides full wording for all the covers we offer', 'source': 'sample_policy_doc_AU1234.pdf', 'total_pages': 58, 'page': 0, 'page_label': '1'}, page_content='ADH 15.10a \\n1 \\n \\n \\n \\n \\n \\n \\n \\nThis is a sample Policy document that provides full \\nwording for all the covers we offer. \\n \\nAll available options are on our website which will enable you to choose the level and type of cover. Once you \\nhave bought your Policy you will be provided with the documentation specific to what you have requested.')"
      ]
     },
     "execution_count": 8,
     "metadata": {},
     "output_type": "execute_result"
    }
   ],
   "source": [
    "docs[0]"
   ]
  },
  {
   "cell_type": "code",
   "execution_count": 4,
   "metadata": {},
   "outputs": [
    {
     "data": {
      "text/plain": [
       "58"
      ]
     },
     "execution_count": 4,
     "metadata": {},
     "output_type": "execute_result"
    }
   ],
   "source": [
    "len(docs)"
   ]
  },
  {
   "cell_type": "code",
   "execution_count": 5,
   "metadata": {},
   "outputs": [
    {
     "data": {
      "text/plain": [
       "Document(metadata={'producer': 'Adobe PDF Library 10.0', 'creator': 'Acrobat PDFMaker 10.1 for Word', 'creationdate': '2015-08-11T15:48:23+01:00', 'author': 'esutton', 'company': 'Swiftcover Insurance Services Ltd.', 'moddate': '2015-08-11T15:48:40+01:00', 'sourcemodified': 'D:20150811125127', 'title': 'This is a sample Policy document that provides full wording for all the covers we offer', 'source': 'sample_policy_doc_AU1234.pdf', 'total_pages': 58, 'page': 0, 'page_label': '1'}, page_content='ADH 15.10a \\n1 \\n \\n \\n \\n \\n \\n \\n \\nThis is a sample Policy document that provides full \\nwording for all the covers we offer. \\n \\nAll available options are on our website which will enable you to choose the level and type of cover. Once you \\nhave bought your Policy you will be provided with the documentation specific to what you have requested.')"
      ]
     },
     "execution_count": 5,
     "metadata": {},
     "output_type": "execute_result"
    }
   ],
   "source": [
    "docs[0]"
   ]
  },
  {
   "cell_type": "code",
   "execution_count": 7,
   "metadata": {},
   "outputs": [],
   "source": [
    "#Retriever\n",
    "retriever=vectorstore.as_retriever(search_kwargs={'k':4})"
   ]
  },
  {
   "cell_type": "code",
   "execution_count": 8,
   "metadata": {},
   "outputs": [],
   "source": [
    "from langchain_core.prompts import PromptTemplate\n",
    "from langchain_core.output_parsers import StrOutputParser\n",
    "from langchain_core.prompts import PromptTemplate\n",
    "prompt=PromptTemplate(\n",
    "    template=\"\"\" \n",
    "    You are assistant for question answering tasks.\n",
    "    Use the following piece of retreived context to answer\n",
    "    the question.If you don't know the answer, say that you don't know.\n",
    "    keep the answer concise.\n",
    "    {context}\n",
    "    Question:{question}\n",
    "    \"\"\",\n",
    "    input_variables=['context','question']\n",
    ")"
   ]
  },
  {
   "cell_type": "code",
   "execution_count": 9,
   "metadata": {},
   "outputs": [],
   "source": [
    "#Building chain\n",
    "from langchain_core.runnables import RunnableParallel, RunnablePassthrough, RunnableLambda\n",
    "from langchain_core.output_parsers import StrOutputParser\n",
    "\n",
    "def format_docs(retrieved_docs):\n",
    "    context_text=\"\\n\".join(doc.page_content for doc in retrieved_docs)\n",
    "    return context_text\n",
    "\n",
    "parllel_chain=RunnableParallel({\n",
    "    'context':retriever | RunnableLambda(format_docs),\n",
    "    'question': RunnablePassthrough()\n",
    "})\n",
    "\n",
    "parser = StrOutputParser()\n",
    "\n",
    "rag_chain = parllel_chain | prompt | llm | parser\n"
   ]
  },
  {
   "cell_type": "code",
   "execution_count": 10,
   "metadata": {},
   "outputs": [],
   "source": [
    "answer=rag_chain.invoke('How my home is covered for any theft?')"
   ]
  },
  {
   "cell_type": "code",
   "execution_count": 11,
   "metadata": {},
   "outputs": [
    {
     "data": {
      "text/plain": [
       "'According to the provided context, your home is covered for theft as long as the keys are lost or stolen, and the theft is not caused by you, your family, or anyone else who has been allowed into the home.'"
      ]
     },
     "execution_count": 11,
     "metadata": {},
     "output_type": "execute_result"
    }
   ],
   "source": [
    "answer"
   ]
  },
  {
   "cell_type": "code",
   "execution_count": 12,
   "metadata": {},
   "outputs": [
    {
     "name": "stdout",
     "output_type": "stream",
     "text": [
      "According to the provided context, your policy does not cover damage to the home unless it has been damaged at the same time and by the same cause. However, it does cover contents whilst in the home for loss or damage resulting from a storm or flood. Additionally, if you have chosen the Accidental Damage (optional extra) section, it may cover some types of damage. It's best to check your policy schedule to confirm what is included.\n"
     ]
    }
   ],
   "source": [
    "answer=rag_chain.invoke(\"\"\"I am planning for vacation and might leave my house empty. \n",
    "Does my policy covers any potential damage that might occur? \"\"\")\n",
    "print(answer)"
   ]
  },
  {
   "cell_type": "code",
   "execution_count": 1,
   "metadata": {},
   "outputs": [],
   "source": [
    "import os"
   ]
  },
  {
   "cell_type": "code",
   "execution_count": 2,
   "metadata": {},
   "outputs": [],
   "source": [
    "def extract_policy_number(file_path):\n",
    "    # Extract just the filename from the path\n",
    "    filename = os.path.basename(file_path)\n",
    "    \n",
    "    # Remove the file extension\n",
    "    name_without_ext = os.path.splitext(filename)[0]\n",
    "    \n",
    "    # Split by underscore and take the last part\n",
    "    parts = name_without_ext.split('_')\n",
    "    if parts:\n",
    "        return parts[-1]\n",
    "    return None\n"
   ]
  },
  {
   "cell_type": "code",
   "execution_count": 3,
   "metadata": {},
   "outputs": [
    {
     "name": "stdout",
     "output_type": "stream",
     "text": [
      "AU1234\n"
     ]
    }
   ],
   "source": [
    "policy_number = extract_policy_number(\"data/policy_file/sample_policy_doc_AU1234.pdf\")\n",
    "print(policy_number)"
   ]
  }
 ],
 "metadata": {
  "kernelspec": {
   "display_name": "Python 3",
   "language": "python",
   "name": "python3"
  },
  "language_info": {
   "codemirror_mode": {
    "name": "ipython",
    "version": 3
   },
   "file_extension": ".py",
   "mimetype": "text/x-python",
   "name": "python",
   "nbconvert_exporter": "python",
   "pygments_lexer": "ipython3",
   "version": "3.12.0"
  },
  "orig_nbformat": 4
 },
 "nbformat": 4,
 "nbformat_minor": 2
}
