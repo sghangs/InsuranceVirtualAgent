{
 "cells": [
  {
   "cell_type": "code",
   "execution_count": 1,
   "id": "d1b90939",
   "metadata": {},
   "outputs": [
    {
     "data": {
      "text/html": [
       "<pre style=\"white-space:pre;overflow-x:auto;line-height:normal;font-family:Menlo,'DejaVu Sans Mono',consolas,'Courier New',monospace\">c:\\Users\\sunny\\Desktop\\temp_env\\env2\\venv\\Lib\\site-packages\\rich\\live.py:231: UserWarning: install \"ipywidgets\" for\n",
       "Jupyter support\n",
       "  warnings.warn('install \"ipywidgets\" for Jupyter support')\n",
       "</pre>\n"
      ],
      "text/plain": [
       "c:\\Users\\sunny\\Desktop\\temp_env\\env2\\venv\\Lib\\site-packages\\rich\\live.py:231: UserWarning: install \"ipywidgets\" for\n",
       "Jupyter support\n",
       "  warnings.warn('install \"ipywidgets\" for Jupyter support')\n"
      ]
     },
     "metadata": {},
     "output_type": "display_data"
    },
    {
     "data": {
      "text/html": [
       "<pre style=\"white-space:pre;overflow-x:auto;line-height:normal;font-family:Menlo,'DejaVu Sans Mono',consolas,'Courier New',monospace\"><span style=\"color: #7f7f7f; text-decoration-color: #7f7f7f\">[Confident AI Synthesizer Log]</span> SUCCESS: <span style=\"color: #008000; text-decoration-color: #008000\">Successfully deleted</span>: .vector_db\n",
       "</pre>\n"
      ],
      "text/plain": [
       "\u001b[2m[Confident AI Synthesizer Log]\u001b[0m SUCCESS: \u001b[32mSuccessfully deleted\u001b[0m: .vector_db\n"
      ]
     },
     "metadata": {},
     "output_type": "display_data"
    },
    {
     "data": {
      "text/html": [
       "<pre style=\"white-space:pre;overflow-x:auto;line-height:normal;font-family:Menlo,'DejaVu Sans Mono',consolas,'Courier New',monospace\"><span style=\"color: #7f7f7f; text-decoration-color: #7f7f7f\">[Confident AI Synthesizer Log]</span> SUCCESS: <span style=\"color: #008000; text-decoration-color: #008000\">Successfully deleted</span>: .vector_db\n",
       "</pre>\n"
      ],
      "text/plain": [
       "\u001b[2m[Confident AI Synthesizer Log]\u001b[0m SUCCESS: \u001b[32mSuccessfully deleted\u001b[0m: .vector_db\n"
      ]
     },
     "metadata": {},
     "output_type": "display_data"
    },
    {
     "data": {
      "text/html": [
       "<pre style=\"white-space:pre;overflow-x:auto;line-height:normal;font-family:Menlo,'DejaVu Sans Mono',consolas,'Courier New',monospace\"><span style=\"color: #7f7f7f; text-decoration-color: #7f7f7f\">[Confident AI Synthesizer Log]</span> SUCCESS: <span style=\"color: #008000; text-decoration-color: #008000\">Context Construction</span>: Utilizing 3 out of 58 chunks.\n",
       "</pre>\n"
      ],
      "text/plain": [
       "\u001b[2m[Confident AI Synthesizer Log]\u001b[0m SUCCESS: \u001b[32mContext Construction\u001b[0m: Utilizing 3 out of 58 chunks.\n"
      ]
     },
     "metadata": {},
     "output_type": "display_data"
    },
    {
     "data": {
      "text/html": [
       "<pre style=\"white-space:pre;overflow-x:auto;line-height:normal;font-family:Menlo,'DejaVu Sans Mono',consolas,'Courier New',monospace\"></pre>\n"
      ],
      "text/plain": []
     },
     "metadata": {},
     "output_type": "display_data"
    }
   ],
   "source": [
    "from deepeval.synthesizer import Synthesizer \n",
    "from deepeval.synthesizer.config import ContextConstructionConfig,StylingConfig\n",
    "\n",
    "import os\n",
    "from dotenv import load_dotenv\n",
    "\n",
    "load_dotenv()\n",
    "\n",
    "# Initialize the synthesizer with custom LLM and embedding models\n",
    "def synthesize():\n",
    "    \"\"\"\n",
    "    This function initializes the synthesizer \n",
    "    and generates golden outputs from documents.\n",
    "    \"\"\"\n",
    "    styling_config=StylingConfig(\n",
    "            input_format=\"Questions about homewoner insurance policy. What cover/not cover depending on home damage situation\",\n",
    "            expected_output_format=\"Detail answer on what covered/not covered for that accident based on policy\",\n",
    "            task=\"RAG chatbot for homewner insurance policy documents\",\n",
    "            scenario=\"Customer asking queries about their policy information\"\n",
    "\n",
    "        )\n",
    "    \n",
    "    synthesizer = Synthesizer(cost_tracking=True,styling_config=styling_config)\n",
    "\n",
    "    goldens = synthesizer.generate_goldens_from_docs(\n",
    "        document_paths=[\"../../evaluation/data/docs/sample_policy_doc_AU1234.pdf\"],\n",
    "        include_expected_output=True,\n",
    "        max_goldens_per_context=2,  # Limit to one golden per context\n",
    "        context_construction_config=ContextConstructionConfig(\n",
    "            max_contexts_per_document=1,  # Limit to one context per document \n",
    "        )     \n",
    "    )\n",
    "\n",
    "    return synthesizer, goldens\n",
    "\n",
    "synthesizer,goldens = synthesize()\n"
   ]
  },
  {
   "cell_type": "code",
   "execution_count": 8,
   "id": "d9a0094c",
   "metadata": {},
   "outputs": [],
   "source": [
    "df = synthesizer.to_pandas()\n"
   ]
  },
  {
   "cell_type": "code",
   "execution_count": 11,
   "id": "50805c60",
   "metadata": {},
   "outputs": [],
   "source": [
    "df.to_excel('dataset.xlsx')"
   ]
  },
  {
   "cell_type": "code",
   "execution_count": 2,
   "id": "af37693a",
   "metadata": {},
   "outputs": [
    {
     "data": {
      "text/plain": [
       "[Golden(input='What steps should I take after filing a homeowner insurance claim to ensure everything is processed smoothly?', actual_output=None, expected_output='Detail answer on what covered/not covered for that accident based on policy, and make sure it is concise and straight to the point, using supporting information in context.\\n\\nAfter filing a homeowner insurance claim, you should provide original purchase receipts or relevant documentation to prove your claim, obtain estimates for repairs, and assist with any enquiries regarding your claim. Do not admit responsibility, make agreements if held liable by others, abandon your property, or dispose of damaged items as we may need to see them. We may choose to repair, reinstate, replace, or pay you for loss/damage but not beyond the sum insured. Excess will be deducted from the claim. Report theft or damages due to theft to Police and obtain a reference number. If required, allow us to access your property for assessment and salvage.', context=['ADH 15.10a \\n30 \\nOur promise \\n• You will speak to a knowledgeable and trained member of staff who can discuss the claim and explain \\nthe next steps. \\n• We will call you back when promised. \\n• We will provide you with regular updates on your claim. \\n \\nWhat you must do after making your claim \\n \\n• To help prove your claim we may require you to provide original purchase receipts, invoices, bank or \\ncredit card statements, instruction booklets, photographs, utility bills, pre-purchase surveys or plans \\nand deeds of your property; \\n• To help assist in dealing with your claim we may require you to obtain estimates for the replacement \\nor repair of damaged property; \\n• We will only ask for information relevant to your claim and we will pay for any reasonable expenses \\nyou incur in providing us with the above information as part of your claim; \\n• If someone is holding you or your family responsible for damage to their property or bodily injury to \\nthem you must provide us with full details as soon as possible. You must also send us any claim \\nform, application notice, legal document or other correspondence sent to you or your family as soon \\nas possible.  \\n• You must assist us with any enquiries we have regarding your claim as it will enable us to deal with it \\nquickly. \\n• You must allow us access to the buildings that have been damaged to salvage anything we can and \\nensure no more damage occurs. However, you must not abandon your property to us. \\n \\nWhat you must not do: \\n \\n• If someone is holding you or your family responsible for injury or any damage, neither you nor your \\nfamily must admit responsibility or make / reach any agreement with them.  \\n• Abandon any property for us to deal with. \\n• Dispose of damaged items as we may need to see them. \\nWe are entitled, if we choose and in your name, but at our expense, to: \\n• take over any rights in the defence or settlement of any claim; \\n• take legal action in your name to get compensation or recover any money due from a third party in \\nyour name. \\n \\nWe are entitled to take possession of the property insured and deal with any salvage.', 'ADH 15.10a \\n31 \\nHow we settle claims \\n• We may repair, reinstate or replace the lost or damaged property. If we cannot replace or repair the \\nproperty we may pay for the loss or damage in cash. Where we can offer repair or replacement \\nthrough a preferred supplier, but we agree to pay a cash settlement, then payment will not exceed the \\namount we would have paid the preferred supplier. If no equivalent replacement is available then we \\nwill pay the full replacement cost of the item with no discount applied. \\n• We will not pay more than the sum insured for a claim. The amount we pay will also depend on any \\nlimit shown in the policy. Your cover limits will not be reduced by any claim. \\n• Where an excess applies, this will be taken off the amount of your claim. \\n• We will not pay for loss of value to any item or buildings resulting from repair or replacement following \\na claim. \\n \\nWe may appoint an approved supplier to act on our behalf to validate your claim. They are authorised to \\narrange a quotation, a repair or a replacement.  \\n  \\nContents and Business equipment \\n• We will settle claims for loss or damage to items which are beyond economic repair on the basis of \\ncost as new as long as: \\n- the contents and business equipment have been maintained in good repair \\n• We will take off an amount for wear and tear in any claim for: \\n- clothing, towels, bed or table linen. \\n \\nBuildings \\n• We will settle claims for loss or damage to the buildings without taking off an amount for wear and \\ntear as long as: \\n- the buildings have been maintained in good repair. \\n• We will pay for the reasonable cost of work carried out in repairing or replacing the damaged part of \\nthe buildings and agreed fees and related costs. \\n• If the repair or replacement is not carried out, we will pay the decrease in market value of your \\nbuildings due to the damage but not more than it would have cost us to repair the damage to your \\nbuildings if the repair had been carried out without delay. \\n• At our option we may arrange for specialist investigations to be carried out.', 'ADH 15.10a \\n29 \\nClaims Conditions \\n \\nThe claims conditions apply to the following covers you have chosen and which are listed on your policy \\nSchedule: \\n• Buildings \\n• Contents \\n• Personal Possessions \\n• Bicycles \\n• Student \\n \\nFor Home Assistance and Family Legal Protection separate conditions apply. Please refer to the relevant parts \\nof your policy. \\n \\nYou and your family must comply with these conditions to have the full protection of your policy. \\n \\nIf you or your family do not comply with the claims conditions, we may refuse to deal with any relevant claims \\nor reduce the amount of any relevant claim payments. \\n \\n \\nThe first thing you must do: \\n \\nWe recommend that you check the cover provided on your schedule \\nYou should: \\n• If you are the victim of theft, riot, malicious damage, or property is lost or stolen away from your  \\nhome, urgently inform the Police and obtain a crime or lost property reference number. In the case of \\nriot you need to inform the Police within 14 days of the event. \\n• Contact us as soon as possible and tell us about the incident. Important contact details are shown in \\nyour ‘AXA Account’. \\n• Take all reasonable steps to recover missing property. \\n• Take all reasonable steps to prevent further damage to your property. \\n \\nMaking a claim \\n \\nIf you need to make a claim you can either: \\n1. Report your claim online. This will: \\n• save the cost of the phone call from your mobile or landline, and \\n• avoid wasting time waiting in queues. \\n \\n2. Or call 0330 024 8086 (Calls are recorded and monitored) \\n \\nWhat you should do in an emergency \\n• Take any necessary steps to prevent further damage to the property such as switching off the gas \\nelectricity and water supply. \\n• You must not dispose of any damaged items or conduct permanent repairs because we  may need to \\ninspect the damage.'], retrieval_context=None, additional_metadata={'evolutions': ['Concretizing'], 'synthetic_input_quality': 1.0}, comments=None, tools_called=None, expected_tools=None, source_file='../../evaluation/data/docs/sample_policy_doc_AU1234.pdf', name=None, custom_column_key_values=None),\n",
       " Golden(input='What documents do I need to provide for a property damage claim compared to a liability claim under my homeowner insurance policy?', actual_output=None, expected_output='Detail answer on what covered/not covered for that accident based on policy, and make sure it is concise and straight to the point, using supporting information in context.\\n\\nFor a property damage claim, you may be required to provide original purchase receipts, invoices, bank or credit card statements, instruction booklets, photographs, utility bills, pre-purchase surveys or plans, and deeds of your property. Additionally, you may need to obtain estimates for the replacement or repair of damaged property. For a liability claim, if someone is holding you or your family responsible for damage to their property or bodily injury to them, you must provide full details as soon as possible and send any claim form, application notice, legal document, or other correspondence sent to you.', context=['ADH 15.10a \\n30 \\nOur promise \\n• You will speak to a knowledgeable and trained member of staff who can discuss the claim and explain \\nthe next steps. \\n• We will call you back when promised. \\n• We will provide you with regular updates on your claim. \\n \\nWhat you must do after making your claim \\n \\n• To help prove your claim we may require you to provide original purchase receipts, invoices, bank or \\ncredit card statements, instruction booklets, photographs, utility bills, pre-purchase surveys or plans \\nand deeds of your property; \\n• To help assist in dealing with your claim we may require you to obtain estimates for the replacement \\nor repair of damaged property; \\n• We will only ask for information relevant to your claim and we will pay for any reasonable expenses \\nyou incur in providing us with the above information as part of your claim; \\n• If someone is holding you or your family responsible for damage to their property or bodily injury to \\nthem you must provide us with full details as soon as possible. You must also send us any claim \\nform, application notice, legal document or other correspondence sent to you or your family as soon \\nas possible.  \\n• You must assist us with any enquiries we have regarding your claim as it will enable us to deal with it \\nquickly. \\n• You must allow us access to the buildings that have been damaged to salvage anything we can and \\nensure no more damage occurs. However, you must not abandon your property to us. \\n \\nWhat you must not do: \\n \\n• If someone is holding you or your family responsible for injury or any damage, neither you nor your \\nfamily must admit responsibility or make / reach any agreement with them.  \\n• Abandon any property for us to deal with. \\n• Dispose of damaged items as we may need to see them. \\nWe are entitled, if we choose and in your name, but at our expense, to: \\n• take over any rights in the defence or settlement of any claim; \\n• take legal action in your name to get compensation or recover any money due from a third party in \\nyour name. \\n \\nWe are entitled to take possession of the property insured and deal with any salvage.', 'ADH 15.10a \\n31 \\nHow we settle claims \\n• We may repair, reinstate or replace the lost or damaged property. If we cannot replace or repair the \\nproperty we may pay for the loss or damage in cash. Where we can offer repair or replacement \\nthrough a preferred supplier, but we agree to pay a cash settlement, then payment will not exceed the \\namount we would have paid the preferred supplier. If no equivalent replacement is available then we \\nwill pay the full replacement cost of the item with no discount applied. \\n• We will not pay more than the sum insured for a claim. The amount we pay will also depend on any \\nlimit shown in the policy. Your cover limits will not be reduced by any claim. \\n• Where an excess applies, this will be taken off the amount of your claim. \\n• We will not pay for loss of value to any item or buildings resulting from repair or replacement following \\na claim. \\n \\nWe may appoint an approved supplier to act on our behalf to validate your claim. They are authorised to \\narrange a quotation, a repair or a replacement.  \\n  \\nContents and Business equipment \\n• We will settle claims for loss or damage to items which are beyond economic repair on the basis of \\ncost as new as long as: \\n- the contents and business equipment have been maintained in good repair \\n• We will take off an amount for wear and tear in any claim for: \\n- clothing, towels, bed or table linen. \\n \\nBuildings \\n• We will settle claims for loss or damage to the buildings without taking off an amount for wear and \\ntear as long as: \\n- the buildings have been maintained in good repair. \\n• We will pay for the reasonable cost of work carried out in repairing or replacing the damaged part of \\nthe buildings and agreed fees and related costs. \\n• If the repair or replacement is not carried out, we will pay the decrease in market value of your \\nbuildings due to the damage but not more than it would have cost us to repair the damage to your \\nbuildings if the repair had been carried out without delay. \\n• At our option we may arrange for specialist investigations to be carried out.', 'ADH 15.10a \\n29 \\nClaims Conditions \\n \\nThe claims conditions apply to the following covers you have chosen and which are listed on your policy \\nSchedule: \\n• Buildings \\n• Contents \\n• Personal Possessions \\n• Bicycles \\n• Student \\n \\nFor Home Assistance and Family Legal Protection separate conditions apply. Please refer to the relevant parts \\nof your policy. \\n \\nYou and your family must comply with these conditions to have the full protection of your policy. \\n \\nIf you or your family do not comply with the claims conditions, we may refuse to deal with any relevant claims \\nor reduce the amount of any relevant claim payments. \\n \\n \\nThe first thing you must do: \\n \\nWe recommend that you check the cover provided on your schedule \\nYou should: \\n• If you are the victim of theft, riot, malicious damage, or property is lost or stolen away from your  \\nhome, urgently inform the Police and obtain a crime or lost property reference number. In the case of \\nriot you need to inform the Police within 14 days of the event. \\n• Contact us as soon as possible and tell us about the incident. Important contact details are shown in \\nyour ‘AXA Account’. \\n• Take all reasonable steps to recover missing property. \\n• Take all reasonable steps to prevent further damage to your property. \\n \\nMaking a claim \\n \\nIf you need to make a claim you can either: \\n1. Report your claim online. This will: \\n• save the cost of the phone call from your mobile or landline, and \\n• avoid wasting time waiting in queues. \\n \\n2. Or call 0330 024 8086 (Calls are recorded and monitored) \\n \\nWhat you should do in an emergency \\n• Take any necessary steps to prevent further damage to the property such as switching off the gas \\nelectricity and water supply. \\n• You must not dispose of any damaged items or conduct permanent repairs because we  may need to \\ninspect the damage.'], retrieval_context=None, additional_metadata={'evolutions': ['Comparative'], 'synthetic_input_quality': 0.8}, comments=None, tools_called=None, expected_tools=None, source_file=None, name=None, custom_column_key_values=None)]"
      ]
     },
     "execution_count": 2,
     "metadata": {},
     "output_type": "execute_result"
    }
   ],
   "source": [
    "goldens"
   ]
  },
  {
   "cell_type": "code",
   "execution_count": 3,
   "id": "24a14073",
   "metadata": {},
   "outputs": [],
   "source": [
    "from deepeval.test_case import LLMTestCase\n",
    "from deepeval.dataset import Golden\n",
    "from deepeval import evaluate\n",
    "from deepeval.metrics import (\n",
    "    AnswerRelevancyMetric,\n",
    "    FaithfulnessMetric,\n",
    "    ContextualPrecisionMetric,\n",
    "    ContextualRecallMetric,\n",
    "    ContextualRelevancyMetric\n",
    ")"
   ]
  },
  {
   "cell_type": "code",
   "execution_count": 4,
   "id": "ad412893",
   "metadata": {},
   "outputs": [],
   "source": [
    "import sys\n",
    "sys.path.append(os.path.abspath(\"../../\"))"
   ]
  },
  {
   "cell_type": "code",
   "execution_count": 5,
   "id": "aea6b982",
   "metadata": {},
   "outputs": [
    {
     "name": "stderr",
     "output_type": "stream",
     "text": [
      "c:\\Users\\sunny\\Desktop\\temp_env\\env2\\venv\\Lib\\site-packages\\tqdm\\auto.py:21: TqdmWarning: IProgress not found. Please update jupyter and ipywidgets. See https://ipywidgets.readthedocs.io/en/stable/user_install.html\n",
      "  from .autonotebook import tqdm as notebook_tqdm\n"
     ]
    }
   ],
   "source": [
    "from evaluation.rag import RagPipeline\n",
    "rag_obj = RagPipeline()\n",
    "test_cases = []\n",
    "for golden in goldens:\n",
    "    res,text_chunks = rag_obj.execute_rag(golden.input)\n",
    "    test_case = LLMTestCase(\n",
    "        input=golden.input,\n",
    "        actual_output=res,\n",
    "        retrieval_context=text_chunks,\n",
    "        expected_output=golden.expected_output,\n",
    "    )\n",
    "    test_cases.append(test_case)"
   ]
  },
  {
   "cell_type": "code",
   "execution_count": 6,
   "id": "e0e1d261",
   "metadata": {},
   "outputs": [
    {
     "data": {
      "text/plain": [
       "[LLMTestCase(input='What steps should I take after filing a homeowner insurance claim to ensure everything is processed smoothly?', actual_output=\"After filing a homeowner insurance claim, there are several steps you can take to ensure the process goes smoothly:\\n\\n1. **Document Everything**: Keep a detailed record of all correspondence with your insurance company, including emails, letters, and notes from phone conversations. Document any expenses incurred as a result of the incident.\\n\\n2. **Meet Deadlines**: Adhere to any deadlines provided by your insurance company for submitting documents or additional information. This could include estimates for repair or restoration work.\\n\\n3. **Provide Accurate Information**: Make sure all information you provide is accurate and complete to avoid any delays in processing your claim.\\n\\n4. **Take Notes During Inspections**: If an insurance adjuster comes to inspect the damage, take notes during their visit. Ask for their contact information to follow up if needed.\\n\\n5. **Follow Up Regularly**: Stay in touch with your insurance company to check on the status of your claim. Don't hesitate to reach out if you haven't heard back in a timely manner.\\n\\n6. **Understand Your Policy**: Make sure you understand what your policy covers and what it doesn’t. This includes knowing your deductible and any limits on coverage.\\n\\n7. **Prepare for Payment**: If your claim is approved, understand the payment process, such as how and when you will receive funds and whether payments will be made directly to you or to service providers.\\n\\n8. **Hire Professionals if Needed**: If extensive repairs are needed, consider hiring a reputable contractor. Your insurance company may recommend or approve certain contractors.\\n\\n9. **Final Inspection**: Once repairs are completed, ensure everything is in order and meets your satisfaction before finalizing your claim.\\n\\nIf you have specific queries related to your policy documents, feel free to ask!\", expected_output='Detail answer on what covered/not covered for that accident based on policy, and make sure it is concise and straight to the point, using supporting information in context.\\n\\nAfter filing a homeowner insurance claim, you should provide original purchase receipts or relevant documentation to prove your claim, obtain estimates for repairs, and assist with any enquiries regarding your claim. Do not admit responsibility, make agreements if held liable by others, abandon your property, or dispose of damaged items as we may need to see them. We may choose to repair, reinstate, replace, or pay you for loss/damage but not beyond the sum insured. Excess will be deducted from the claim. Report theft or damages due to theft to Police and obtain a reference number. If required, allow us to access your property for assessment and salvage.', context=None, retrieval_context=[], additional_metadata=None, tools_called=None, comments=None, expected_tools=None, token_cost=None, completion_time=None, name=None, tags=None),\n",
       " LLMTestCase(input='What documents do I need to provide for a property damage claim compared to a liability claim under my homeowner insurance policy?', actual_output=\"For a property damage claim under your homeowner insurance policy, you may need to provide documentation such as:\\n\\n- Original purchase receipts\\n- Invoices\\n- Bank or credit card statements\\n- Instruction booklets\\n- Photographs\\n- Utility bills\\n- Pre-purchase surveys\\n- Plans and deeds of your property\\n- Estimates for the replacement or repair of damaged property\\n\\nThese documents help prove your claim and assist in the repair or replacement process.\\n\\nIn contrast, for a liability claim, where someone is holding you or your family responsible for damage to their property or bodily injury, you must provide:\\n\\n- Full details of the incident as soon as possible\\n- Any claim form, application notice, legal document, or other correspondence received from the claimant\\n\\nFor both types of claims, it's important to provide full cooperation with your insurance provider to facilitate the claim process.\", expected_output='Detail answer on what covered/not covered for that accident based on policy, and make sure it is concise and straight to the point, using supporting information in context.\\n\\nFor a property damage claim, you may be required to provide original purchase receipts, invoices, bank or credit card statements, instruction booklets, photographs, utility bills, pre-purchase surveys or plans, and deeds of your property. Additionally, you may need to obtain estimates for the replacement or repair of damaged property. For a liability claim, if someone is holding you or your family responsible for damage to their property or bodily injury to them, you must provide full details as soon as possible and send any claim form, application notice, legal document, or other correspondence sent to you.', context=None, retrieval_context=['# Home Insurance\\n\\n## Our promise\\n\\n- **You** will speak to a knowledgeable and trained member of staff who can discuss the claim and explain the next steps.\\n- **We** will call **you** back when promised.\\n- **We** will provide **you** with regular updates on **your** claim.\\n\\n## What you must do after making your claim\\n\\n- To help prove **your** claim **we** may require **you** to provide original purchase receipts, invoices, bank or credit card statements, instruction booklets, photographs, utility bills, pre-purchase surveys or plans and deeds of **your** property;\\n- To help assist in dealing with **your** claim **we** may require **you** to obtain estimates for the replacement or repair of damaged property;\\n- **We** will only ask for information relevant to **your** claim and **we** will pay for any reasonable expenses **you** incur in providing **us** with the above information as part of **your** claim;\\n- If someone is holding **you** or **your family** responsible for damage to their property or bodily injury to them **you** must provide **us** with full details as soon as possible. **You** must also send **us** any claim form, application notice, legal document or other correspondence sent to **you** or **your family** as soon as possible.\\n- **You** must assist **us** with any enquiries **we** have regarding **your** claim as it will enable **us** to deal with it quickly.\\n- **You** must allow **us** access to the buildings that have been damaged to salvage anything **we** can and ensure no more damage occurs. However, **you** must not abandon **your** property to **us**.\\n\\n## What you must not do:\\n\\n- If someone is holding **you** or **your family** responsible for injury or any damage, neither **you** nor **your family** must admit responsibility or make/reach any agreement with them.\\n- Abandon any property for **us** to deal with.\\n- Dispose of damaged items as **we** may need to see them.\\n\\n**We** are entitled, if **we** choose and in **your** name, but at **our** expense, to:\\n- Take over any rights in the defence or settlement of any claim;\\n- Take legal action in **your** name to get compensation or recover any money due from a third party in **your** name.\\n\\n**We** are entitled to take possession of the property insured and deal with any salvage.'], additional_metadata=None, tools_called=None, comments=None, expected_tools=None, token_cost=None, completion_time=None, name=None, tags=None)]"
      ]
     },
     "execution_count": 6,
     "metadata": {},
     "output_type": "execute_result"
    }
   ],
   "source": [
    "test_cases"
   ]
  }
 ],
 "metadata": {
  "kernelspec": {
   "display_name": "Python 3",
   "language": "python",
   "name": "python3"
  },
  "language_info": {
   "codemirror_mode": {
    "name": "ipython",
    "version": 3
   },
   "file_extension": ".py",
   "mimetype": "text/x-python",
   "name": "python",
   "nbconvert_exporter": "python",
   "pygments_lexer": "ipython3",
   "version": "3.12.0"
  }
 },
 "nbformat": 4,
 "nbformat_minor": 5
}
