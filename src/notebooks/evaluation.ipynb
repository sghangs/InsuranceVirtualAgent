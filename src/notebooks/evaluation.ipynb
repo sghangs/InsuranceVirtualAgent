{
 "cells": [
  {
   "cell_type": "code",
   "execution_count": 1,
   "id": "d1b90939",
   "metadata": {},
   "outputs": [
    {
     "data": {
      "text/html": [
       "<pre style=\"white-space:pre;overflow-x:auto;line-height:normal;font-family:Menlo,'DejaVu Sans Mono',consolas,'Courier New',monospace\">c:\\Users\\sunny\\Desktop\\temp_env\\env2\\venv\\Lib\\site-packages\\rich\\live.py:231: UserWarning: install \"ipywidgets\" for\n",
       "Jupyter support\n",
       "  warnings.warn('install \"ipywidgets\" for Jupyter support')\n",
       "</pre>\n"
      ],
      "text/plain": [
       "c:\\Users\\sunny\\Desktop\\temp_env\\env2\\venv\\Lib\\site-packages\\rich\\live.py:231: UserWarning: install \"ipywidgets\" for\n",
       "Jupyter support\n",
       "  warnings.warn('install \"ipywidgets\" for Jupyter support')\n"
      ]
     },
     "metadata": {},
     "output_type": "display_data"
    },
    {
     "data": {
      "text/html": [
       "<pre style=\"white-space:pre;overflow-x:auto;line-height:normal;font-family:Menlo,'DejaVu Sans Mono',consolas,'Courier New',monospace\"><span style=\"color: #7f7f7f; text-decoration-color: #7f7f7f\">[Confident AI Synthesizer Log]</span> SUCCESS: <span style=\"color: #008000; text-decoration-color: #008000\">Successfully deleted</span>: .vector_db\n",
       "</pre>\n"
      ],
      "text/plain": [
       "\u001b[2m[Confident AI Synthesizer Log]\u001b[0m SUCCESS: \u001b[32mSuccessfully deleted\u001b[0m: .vector_db\n"
      ]
     },
     "metadata": {},
     "output_type": "display_data"
    },
    {
     "data": {
      "text/html": [
       "<pre style=\"white-space:pre;overflow-x:auto;line-height:normal;font-family:Menlo,'DejaVu Sans Mono',consolas,'Courier New',monospace\"><span style=\"color: #7f7f7f; text-decoration-color: #7f7f7f\">[Confident AI Synthesizer Log]</span> SUCCESS: <span style=\"color: #008000; text-decoration-color: #008000\">Successfully deleted</span>: .vector_db\n",
       "</pre>\n"
      ],
      "text/plain": [
       "\u001b[2m[Confident AI Synthesizer Log]\u001b[0m SUCCESS: \u001b[32mSuccessfully deleted\u001b[0m: .vector_db\n"
      ]
     },
     "metadata": {},
     "output_type": "display_data"
    },
    {
     "data": {
      "text/html": [
       "<pre style=\"white-space:pre;overflow-x:auto;line-height:normal;font-family:Menlo,'DejaVu Sans Mono',consolas,'Courier New',monospace\"><span style=\"color: #7f7f7f; text-decoration-color: #7f7f7f\">[Confident AI Synthesizer Log]</span> SUCCESS: <span style=\"color: #008000; text-decoration-color: #008000\">Context Construction</span>: Utilizing 3 out of 58 chunks.\n",
       "</pre>\n"
      ],
      "text/plain": [
       "\u001b[2m[Confident AI Synthesizer Log]\u001b[0m SUCCESS: \u001b[32mContext Construction\u001b[0m: Utilizing 3 out of 58 chunks.\n"
      ]
     },
     "metadata": {},
     "output_type": "display_data"
    },
    {
     "data": {
      "text/html": [
       "<pre style=\"white-space:pre;overflow-x:auto;line-height:normal;font-family:Menlo,'DejaVu Sans Mono',consolas,'Courier New',monospace\"></pre>\n"
      ],
      "text/plain": []
     },
     "metadata": {},
     "output_type": "display_data"
    }
   ],
   "source": [
    "from deepeval.synthesizer import Synthesizer \n",
    "from deepeval.synthesizer.config import ContextConstructionConfig,StylingConfig\n",
    "\n",
    "import os\n",
    "from dotenv import load_dotenv\n",
    "\n",
    "load_dotenv()\n",
    "\n",
    "# Initialize the synthesizer with custom LLM and embedding models\n",
    "def synthesize():\n",
    "    \"\"\"\n",
    "    This function initializes the synthesizer \n",
    "    and generates golden outputs from documents.\n",
    "    \"\"\"\n",
    "    styling_config=StylingConfig(\n",
    "            input_format=\"Questions about homewoner insurance policy. What cover/not cover depending on home damage situation\",\n",
    "            expected_output_format=\"Detail answer on what covered/not covered for that accident based on policy\",\n",
    "            task=\"RAG chatbot for homewner insurance policy documents\",\n",
    "            scenario=\"Customer asking queries about their policy information\"\n",
    "\n",
    "        )\n",
    "    \n",
    "    synthesizer = Synthesizer(cost_tracking=True,styling_config=styling_config)\n",
    "\n",
    "    goldens = synthesizer.generate_goldens_from_docs(\n",
    "        document_paths=[\"../../evaluation/data/docs/sample_policy_doc_AU1234.pdf\"],\n",
    "        include_expected_output=True,\n",
    "        max_goldens_per_context=2,  # Limit to one golden per context\n",
    "        context_construction_config=ContextConstructionConfig(\n",
    "            max_contexts_per_document=1,  # Limit to one context per document \n",
    "        )     \n",
    "    )\n",
    "\n",
    "    return synthesizer, goldens\n",
    "\n",
    "synthesizer,goldens = synthesize()\n"
   ]
  },
  {
   "cell_type": "code",
   "execution_count": 8,
   "id": "d9a0094c",
   "metadata": {},
   "outputs": [],
   "source": [
    "df = synthesizer.to_pandas()\n"
   ]
  },
  {
   "cell_type": "code",
   "execution_count": 11,
   "id": "50805c60",
   "metadata": {},
   "outputs": [],
   "source": [
    "df.to_excel('dataset.xlsx')"
   ]
  },
  {
   "cell_type": "code",
   "execution_count": 2,
   "id": "af37693a",
   "metadata": {},
   "outputs": [
    {
     "data": {
      "text/plain": [
       "[Golden(input='What steps should I take after filing a homeowner insurance claim to ensure everything is processed smoothly?', actual_output=None, expected_output='Detail answer on what covered/not covered for that accident based on policy, and make sure it is concise and straight to the point, using supporting information in context.\\n\\nAfter filing a homeowner insurance claim, you should provide original purchase receipts or relevant documentation to prove your claim, obtain estimates for repairs, and assist with any enquiries regarding your claim. Do not admit responsibility, make agreements if held liable by others, abandon your property, or dispose of damaged items as we may need to see them. We may choose to repair, reinstate, replace, or pay you for loss/damage but not beyond the sum insured. Excess will be deducted from the claim. Report theft or damages due to theft to Police and obtain a reference number. If required, allow us to access your property for assessment and salvage.', context=['ADH 15.10a \\n30 \\nOur promise \\n• You will speak to a knowledgeable and trained member of staff who can discuss the claim and explain \\nthe next steps. \\n• We will call you back when promised. \\n• We will provide you with regular updates on your claim. \\n \\nWhat you must do after making your claim \\n \\n• To help prove your claim we may require you to provide original purchase receipts, invoices, bank or \\ncredit card statements, instruction booklets, photographs, utility bills, pre-purchase surveys or plans \\nand deeds of your property; \\n• To help assist in dealing with your claim we may require you to obtain estimates for the replacement \\nor repair of damaged property; \\n• We will only ask for information relevant to your claim and we will pay for any reasonable expenses \\nyou incur in providing us with the above information as part of your claim; \\n• If someone is holding you or your family responsible for damage to their property or bodily injury to \\nthem you must provide us with full details as soon as possible. You must also send us any claim \\nform, application notice, legal document or other correspondence sent to you or your family as soon \\nas possible.  \\n• You must assist us with any enquiries we have regarding your claim as it will enable us to deal with it \\nquickly. \\n• You must allow us access to the buildings that have been damaged to salvage anything we can and \\nensure no more damage occurs. However, you must not abandon your property to us. \\n \\nWhat you must not do: \\n \\n• If someone is holding you or your family responsible for injury or any damage, neither you nor your \\nfamily must admit responsibility or make / reach any agreement with them.  \\n• Abandon any property for us to deal with. \\n• Dispose of damaged items as we may need to see them. \\nWe are entitled, if we choose and in your name, but at our expense, to: \\n• take over any rights in the defence or settlement of any claim; \\n• take legal action in your name to get compensation or recover any money due from a third party in \\nyour name. \\n \\nWe are entitled to take possession of the property insured and deal with any salvage.', 'ADH 15.10a \\n31 \\nHow we settle claims \\n• We may repair, reinstate or replace the lost or damaged property. If we cannot replace or repair the \\nproperty we may pay for the loss or damage in cash. Where we can offer repair or replacement \\nthrough a preferred supplier, but we agree to pay a cash settlement, then payment will not exceed the \\namount we would have paid the preferred supplier. If no equivalent replacement is available then we \\nwill pay the full replacement cost of the item with no discount applied. \\n• We will not pay more than the sum insured for a claim. The amount we pay will also depend on any \\nlimit shown in the policy. Your cover limits will not be reduced by any claim. \\n• Where an excess applies, this will be taken off the amount of your claim. \\n• We will not pay for loss of value to any item or buildings resulting from repair or replacement following \\na claim. \\n \\nWe may appoint an approved supplier to act on our behalf to validate your claim. They are authorised to \\narrange a quotation, a repair or a replacement.  \\n  \\nContents and Business equipment \\n• We will settle claims for loss or damage to items which are beyond economic repair on the basis of \\ncost as new as long as: \\n- the contents and business equipment have been maintained in good repair \\n• We will take off an amount for wear and tear in any claim for: \\n- clothing, towels, bed or table linen. \\n \\nBuildings \\n• We will settle claims for loss or damage to the buildings without taking off an amount for wear and \\ntear as long as: \\n- the buildings have been maintained in good repair. \\n• We will pay for the reasonable cost of work carried out in repairing or replacing the damaged part of \\nthe buildings and agreed fees and related costs. \\n• If the repair or replacement is not carried out, we will pay the decrease in market value of your \\nbuildings due to the damage but not more than it would have cost us to repair the damage to your \\nbuildings if the repair had been carried out without delay. \\n• At our option we may arrange for specialist investigations to be carried out.', 'ADH 15.10a \\n29 \\nClaims Conditions \\n \\nThe claims conditions apply to the following covers you have chosen and which are listed on your policy \\nSchedule: \\n• Buildings \\n• Contents \\n• Personal Possessions \\n• Bicycles \\n• Student \\n \\nFor Home Assistance and Family Legal Protection separate conditions apply. Please refer to the relevant parts \\nof your policy. \\n \\nYou and your family must comply with these conditions to have the full protection of your policy. \\n \\nIf you or your family do not comply with the claims conditions, we may refuse to deal with any relevant claims \\nor reduce the amount of any relevant claim payments. \\n \\n \\nThe first thing you must do: \\n \\nWe recommend that you check the cover provided on your schedule \\nYou should: \\n• If you are the victim of theft, riot, malicious damage, or property is lost or stolen away from your  \\nhome, urgently inform the Police and obtain a crime or lost property reference number. In the case of \\nriot you need to inform the Police within 14 days of the event. \\n• Contact us as soon as possible and tell us about the incident. Important contact details are shown in \\nyour ‘AXA Account’. \\n• Take all reasonable steps to recover missing property. \\n• Take all reasonable steps to prevent further damage to your property. \\n \\nMaking a claim \\n \\nIf you need to make a claim you can either: \\n1. Report your claim online. This will: \\n• save the cost of the phone call from your mobile or landline, and \\n• avoid wasting time waiting in queues. \\n \\n2. Or call 0330 024 8086 (Calls are recorded and monitored) \\n \\nWhat you should do in an emergency \\n• Take any necessary steps to prevent further damage to the property such as switching off the gas \\nelectricity and water supply. \\n• You must not dispose of any damaged items or conduct permanent repairs because we  may need to \\ninspect the damage.'], retrieval_context=None, additional_metadata={'evolutions': ['Concretizing'], 'synthetic_input_quality': 1.0}, comments=None, tools_called=None, expected_tools=None, source_file='../../evaluation/data/docs/sample_policy_doc_AU1234.pdf', name=None, custom_column_key_values=None),\n",
       " Golden(input='What documents do I need to provide for a property damage claim compared to a liability claim under my homeowner insurance policy?', actual_output=None, expected_output='Detail answer on what covered/not covered for that accident based on policy, and make sure it is concise and straight to the point, using supporting information in context.\\n\\nFor a property damage claim, you may be required to provide original purchase receipts, invoices, bank or credit card statements, instruction booklets, photographs, utility bills, pre-purchase surveys or plans, and deeds of your property. Additionally, you may need to obtain estimates for the replacement or repair of damaged property. For a liability claim, if someone is holding you or your family responsible for damage to their property or bodily injury to them, you must provide full details as soon as possible and send any claim form, application notice, legal document, or other correspondence sent to you.', context=['ADH 15.10a \\n30 \\nOur promise \\n• You will speak to a knowledgeable and trained member of staff who can discuss the claim and explain \\nthe next steps. \\n• We will call you back when promised. \\n• We will provide you with regular updates on your claim. \\n \\nWhat you must do after making your claim \\n \\n• To help prove your claim we may require you to provide original purchase receipts, invoices, bank or \\ncredit card statements, instruction booklets, photographs, utility bills, pre-purchase surveys or plans \\nand deeds of your property; \\n• To help assist in dealing with your claim we may require you to obtain estimates for the replacement \\nor repair of damaged property; \\n• We will only ask for information relevant to your claim and we will pay for any reasonable expenses \\nyou incur in providing us with the above information as part of your claim; \\n• If someone is holding you or your family responsible for damage to their property or bodily injury to \\nthem you must provide us with full details as soon as possible. You must also send us any claim \\nform, application notice, legal document or other correspondence sent to you or your family as soon \\nas possible.  \\n• You must assist us with any enquiries we have regarding your claim as it will enable us to deal with it \\nquickly. \\n• You must allow us access to the buildings that have been damaged to salvage anything we can and \\nensure no more damage occurs. However, you must not abandon your property to us. \\n \\nWhat you must not do: \\n \\n• If someone is holding you or your family responsible for injury or any damage, neither you nor your \\nfamily must admit responsibility or make / reach any agreement with them.  \\n• Abandon any property for us to deal with. \\n• Dispose of damaged items as we may need to see them. \\nWe are entitled, if we choose and in your name, but at our expense, to: \\n• take over any rights in the defence or settlement of any claim; \\n• take legal action in your name to get compensation or recover any money due from a third party in \\nyour name. \\n \\nWe are entitled to take possession of the property insured and deal with any salvage.', 'ADH 15.10a \\n31 \\nHow we settle claims \\n• We may repair, reinstate or replace the lost or damaged property. If we cannot replace or repair the \\nproperty we may pay for the loss or damage in cash. Where we can offer repair or replacement \\nthrough a preferred supplier, but we agree to pay a cash settlement, then payment will not exceed the \\namount we would have paid the preferred supplier. If no equivalent replacement is available then we \\nwill pay the full replacement cost of the item with no discount applied. \\n• We will not pay more than the sum insured for a claim. The amount we pay will also depend on any \\nlimit shown in the policy. Your cover limits will not be reduced by any claim. \\n• Where an excess applies, this will be taken off the amount of your claim. \\n• We will not pay for loss of value to any item or buildings resulting from repair or replacement following \\na claim. \\n \\nWe may appoint an approved supplier to act on our behalf to validate your claim. They are authorised to \\narrange a quotation, a repair or a replacement.  \\n  \\nContents and Business equipment \\n• We will settle claims for loss or damage to items which are beyond economic repair on the basis of \\ncost as new as long as: \\n- the contents and business equipment have been maintained in good repair \\n• We will take off an amount for wear and tear in any claim for: \\n- clothing, towels, bed or table linen. \\n \\nBuildings \\n• We will settle claims for loss or damage to the buildings without taking off an amount for wear and \\ntear as long as: \\n- the buildings have been maintained in good repair. \\n• We will pay for the reasonable cost of work carried out in repairing or replacing the damaged part of \\nthe buildings and agreed fees and related costs. \\n• If the repair or replacement is not carried out, we will pay the decrease in market value of your \\nbuildings due to the damage but not more than it would have cost us to repair the damage to your \\nbuildings if the repair had been carried out without delay. \\n• At our option we may arrange for specialist investigations to be carried out.', 'ADH 15.10a \\n29 \\nClaims Conditions \\n \\nThe claims conditions apply to the following covers you have chosen and which are listed on your policy \\nSchedule: \\n• Buildings \\n• Contents \\n• Personal Possessions \\n• Bicycles \\n• Student \\n \\nFor Home Assistance and Family Legal Protection separate conditions apply. Please refer to the relevant parts \\nof your policy. \\n \\nYou and your family must comply with these conditions to have the full protection of your policy. \\n \\nIf you or your family do not comply with the claims conditions, we may refuse to deal with any relevant claims \\nor reduce the amount of any relevant claim payments. \\n \\n \\nThe first thing you must do: \\n \\nWe recommend that you check the cover provided on your schedule \\nYou should: \\n• If you are the victim of theft, riot, malicious damage, or property is lost or stolen away from your  \\nhome, urgently inform the Police and obtain a crime or lost property reference number. In the case of \\nriot you need to inform the Police within 14 days of the event. \\n• Contact us as soon as possible and tell us about the incident. Important contact details are shown in \\nyour ‘AXA Account’. \\n• Take all reasonable steps to recover missing property. \\n• Take all reasonable steps to prevent further damage to your property. \\n \\nMaking a claim \\n \\nIf you need to make a claim you can either: \\n1. Report your claim online. This will: \\n• save the cost of the phone call from your mobile or landline, and \\n• avoid wasting time waiting in queues. \\n \\n2. Or call 0330 024 8086 (Calls are recorded and monitored) \\n \\nWhat you should do in an emergency \\n• Take any necessary steps to prevent further damage to the property such as switching off the gas \\nelectricity and water supply. \\n• You must not dispose of any damaged items or conduct permanent repairs because we  may need to \\ninspect the damage.'], retrieval_context=None, additional_metadata={'evolutions': ['Comparative'], 'synthetic_input_quality': 0.8}, comments=None, tools_called=None, expected_tools=None, source_file=None, name=None, custom_column_key_values=None)]"
      ]
     },
     "execution_count": 2,
     "metadata": {},
     "output_type": "execute_result"
    }
   ],
   "source": [
    "goldens"
   ]
  },
  {
   "cell_type": "code",
   "execution_count": 3,
   "id": "24a14073",
   "metadata": {},
   "outputs": [],
   "source": [
    "from deepeval.test_case import LLMTestCase\n",
    "from deepeval.dataset import Golden\n",
    "from deepeval import evaluate\n",
    "from deepeval.metrics import (\n",
    "    AnswerRelevancyMetric,\n",
    "    FaithfulnessMetric,\n",
    "    ContextualPrecisionMetric,\n",
    "    ContextualRecallMetric,\n",
    "    ContextualRelevancyMetric\n",
    ")"
   ]
  },
  {
   "cell_type": "code",
   "execution_count": 4,
   "id": "ad412893",
   "metadata": {},
   "outputs": [],
   "source": [
    "import sys\n",
    "sys.path.append(os.path.abspath(\"../../\"))"
   ]
  },
  {
   "cell_type": "code",
   "execution_count": 5,
   "id": "aea6b982",
   "metadata": {},
   "outputs": [
    {
     "name": "stderr",
     "output_type": "stream",
     "text": [
      "c:\\Users\\sunny\\Desktop\\temp_env\\env2\\venv\\Lib\\site-packages\\tqdm\\auto.py:21: TqdmWarning: IProgress not found. Please update jupyter and ipywidgets. See https://ipywidgets.readthedocs.io/en/stable/user_install.html\n",
      "  from .autonotebook import tqdm as notebook_tqdm\n"
     ]
    }
   ],
   "source": [
    "from evaluation.rag import RagPipeline\n",
    "rag_obj = RagPipeline()\n",
    "test_cases = []\n",
    "for golden in goldens:\n",
    "    res,text_chunks = rag_obj.execute_rag(golden.input)\n",
    "    test_case = LLMTestCase(\n",
    "        input=golden.input,\n",
    "        actual_output=res,\n",
    "        retrieval_context=text_chunks,\n",
    "        expected_output=golden.expected_output,\n",
    "    )\n",
    "    test_cases.append(test_case)"
   ]
  },
  {
   "cell_type": "code",
   "execution_count": 6,
   "id": "e0e1d261",
   "metadata": {},
   "outputs": [
    {
     "data": {
      "text/plain": [
       "[LLMTestCase(input='What steps should I take after filing a homeowner insurance claim to ensure everything is processed smoothly?', actual_output=\"After filing a homeowner insurance claim, there are several steps you can take to ensure the process goes smoothly:\\n\\n1. **Document Everything**: Keep a detailed record of all correspondence with your insurance company, including emails, letters, and notes from phone conversations. Document any expenses incurred as a result of the incident.\\n\\n2. **Meet Deadlines**: Adhere to any deadlines provided by your insurance company for submitting documents or additional information. This could include estimates for repair or restoration work.\\n\\n3. **Provide Accurate Information**: Make sure all information you provide is accurate and complete to avoid any delays in processing your claim.\\n\\n4. **Take Notes During Inspections**: If an insurance adjuster comes to inspect the damage, take notes during their visit. Ask for their contact information to follow up if needed.\\n\\n5. **Follow Up Regularly**: Stay in touch with your insurance company to check on the status of your claim. Don't hesitate to reach out if you haven't heard back in a timely manner.\\n\\n6. **Understand Your Policy**: Make sure you understand what your policy covers and what it doesn’t. This includes knowing your deductible and any limits on coverage.\\n\\n7. **Prepare for Payment**: If your claim is approved, understand the payment process, such as how and when you will receive funds and whether payments will be made directly to you or to service providers.\\n\\n8. **Hire Professionals if Needed**: If extensive repairs are needed, consider hiring a reputable contractor. Your insurance company may recommend or approve certain contractors.\\n\\n9. **Final Inspection**: Once repairs are completed, ensure everything is in order and meets your satisfaction before finalizing your claim.\\n\\nIf you have specific queries related to your policy documents, feel free to ask!\", expected_output='Detail answer on what covered/not covered for that accident based on policy, and make sure it is concise and straight to the point, using supporting information in context.\\n\\nAfter filing a homeowner insurance claim, you should provide original purchase receipts or relevant documentation to prove your claim, obtain estimates for repairs, and assist with any enquiries regarding your claim. Do not admit responsibility, make agreements if held liable by others, abandon your property, or dispose of damaged items as we may need to see them. We may choose to repair, reinstate, replace, or pay you for loss/damage but not beyond the sum insured. Excess will be deducted from the claim. Report theft or damages due to theft to Police and obtain a reference number. If required, allow us to access your property for assessment and salvage.', context=None, retrieval_context=[], additional_metadata=None, tools_called=None, comments=None, expected_tools=None, token_cost=None, completion_time=None, name=None, tags=None),\n",
       " LLMTestCase(input='What documents do I need to provide for a property damage claim compared to a liability claim under my homeowner insurance policy?', actual_output=\"For a property damage claim under your homeowner insurance policy, you may need to provide documentation such as:\\n\\n- Original purchase receipts\\n- Invoices\\n- Bank or credit card statements\\n- Instruction booklets\\n- Photographs\\n- Utility bills\\n- Pre-purchase surveys\\n- Plans and deeds of your property\\n- Estimates for the replacement or repair of damaged property\\n\\nThese documents help prove your claim and assist in the repair or replacement process.\\n\\nIn contrast, for a liability claim, where someone is holding you or your family responsible for damage to their property or bodily injury, you must provide:\\n\\n- Full details of the incident as soon as possible\\n- Any claim form, application notice, legal document, or other correspondence received from the claimant\\n\\nFor both types of claims, it's important to provide full cooperation with your insurance provider to facilitate the claim process.\", expected_output='Detail answer on what covered/not covered for that accident based on policy, and make sure it is concise and straight to the point, using supporting information in context.\\n\\nFor a property damage claim, you may be required to provide original purchase receipts, invoices, bank or credit card statements, instruction booklets, photographs, utility bills, pre-purchase surveys or plans, and deeds of your property. Additionally, you may need to obtain estimates for the replacement or repair of damaged property. For a liability claim, if someone is holding you or your family responsible for damage to their property or bodily injury to them, you must provide full details as soon as possible and send any claim form, application notice, legal document, or other correspondence sent to you.', context=None, retrieval_context=['# Home Insurance\\n\\n## Our promise\\n\\n- **You** will speak to a knowledgeable and trained member of staff who can discuss the claim and explain the next steps.\\n- **We** will call **you** back when promised.\\n- **We** will provide **you** with regular updates on **your** claim.\\n\\n## What you must do after making your claim\\n\\n- To help prove **your** claim **we** may require **you** to provide original purchase receipts, invoices, bank or credit card statements, instruction booklets, photographs, utility bills, pre-purchase surveys or plans and deeds of **your** property;\\n- To help assist in dealing with **your** claim **we** may require **you** to obtain estimates for the replacement or repair of damaged property;\\n- **We** will only ask for information relevant to **your** claim and **we** will pay for any reasonable expenses **you** incur in providing **us** with the above information as part of **your** claim;\\n- If someone is holding **you** or **your family** responsible for damage to their property or bodily injury to them **you** must provide **us** with full details as soon as possible. **You** must also send **us** any claim form, application notice, legal document or other correspondence sent to **you** or **your family** as soon as possible.\\n- **You** must assist **us** with any enquiries **we** have regarding **your** claim as it will enable **us** to deal with it quickly.\\n- **You** must allow **us** access to the buildings that have been damaged to salvage anything **we** can and ensure no more damage occurs. However, **you** must not abandon **your** property to **us**.\\n\\n## What you must not do:\\n\\n- If someone is holding **you** or **your family** responsible for injury or any damage, neither **you** nor **your family** must admit responsibility or make/reach any agreement with them.\\n- Abandon any property for **us** to deal with.\\n- Dispose of damaged items as **we** may need to see them.\\n\\n**We** are entitled, if **we** choose and in **your** name, but at **our** expense, to:\\n- Take over any rights in the defence or settlement of any claim;\\n- Take legal action in **your** name to get compensation or recover any money due from a third party in **your** name.\\n\\n**We** are entitled to take possession of the property insured and deal with any salvage.'], additional_metadata=None, tools_called=None, comments=None, expected_tools=None, token_cost=None, completion_time=None, name=None, tags=None)]"
      ]
     },
     "execution_count": 6,
     "metadata": {},
     "output_type": "execute_result"
    }
   ],
   "source": [
    "test_cases"
   ]
  },
  {
   "cell_type": "code",
   "execution_count": 8,
   "id": "a3bde014",
   "metadata": {},
   "outputs": [],
   "source": [
    "import json"
   ]
  },
  {
   "cell_type": "code",
   "execution_count": 9,
   "id": "211c3208",
   "metadata": {},
   "outputs": [],
   "source": [
    "with open(\"../../data/goldens/synthetic_dataset.json\") as file:\n",
    "    goldens = json.load(file)"
   ]
  },
  {
   "cell_type": "code",
   "execution_count": 12,
   "id": "254aa132",
   "metadata": {},
   "outputs": [],
   "source": [
    "golden = goldens[0]"
   ]
  },
  {
   "cell_type": "code",
   "execution_count": 16,
   "id": "1fa92c0a",
   "metadata": {},
   "outputs": [
    {
     "data": {
      "text/plain": [
       "dict"
      ]
     },
     "execution_count": 16,
     "metadata": {},
     "output_type": "execute_result"
    }
   ],
   "source": [
    "type(golden)"
   ]
  },
  {
   "cell_type": "code",
   "execution_count": 13,
   "id": "36f835f2",
   "metadata": {},
   "outputs": [],
   "source": [
    "from evaluation.rag import RagPipeline"
   ]
  },
  {
   "cell_type": "code",
   "execution_count": 18,
   "id": "eeef9117",
   "metadata": {},
   "outputs": [],
   "source": [
    "rag_obj = RagPipeline()\n",
    "test_cases = []\n",
    "res,text_chunks = rag_obj.execute_rag(golden[\"input\"])\n",
    "test_case = LLMTestCase(\n",
    "        input=golden[\"input\"],\n",
    "        actual_output=res,\n",
    "        retrieval_context=text_chunks,\n",
    "        expected_output=golden[\"expected_output\"],\n",
    "    )\n",
    "test_cases.append(test_case)"
   ]
  },
  {
   "cell_type": "code",
   "execution_count": 19,
   "id": "9d0ec681",
   "metadata": {},
   "outputs": [
    {
     "data": {
      "text/plain": [
       "[LLMTestCase(input='What steps should I take if my home assistance cover is unavailable during an emergency? Does my homeowner insurance policy provide any alternative coverage for such situations?', actual_output=\"If your home assistance cover is unavailable during an emergency, you can still seek help through your homeowner insurance policy. Here's what you can do:\\n\\n1. **Contact the Domestic Emergency Helpline**: If you have not taken home assistance cover, you should call the domestic emergency helpline at 01737 815927. AXA Assistance (UK) Limited will connect you with the nearest suitable tradesperson.\\n\\n2. **Liability and Payment**: Since this is a referral service, any agreement between you and the tradesperson is independent of AXA Assistance. You will be responsible for agreeing on the scope, quality, and cost of the work with the tradesperson.\\n\\n3. **Submit a Claim**: If the incident is covered by your homeowner insurance policy, you may submit a claim in the usual way for reimbursement or coverage of certain costs related to the emergency.\\n\\n4. **Emergency Coverage under Home Insurance**: Your homeowner insurance policy provides alternative coverage:\\n   - They will manage your claim and potentially arrange for an authorized contractor to address the emergency.\\n   - They can organize and pay up to £1,000 per claim for emergency or permanent repairs.\\n   - If your home becomes uninhabitable due to a covered event, they will contribute up to £250 towards accommodation and transport costs.\\n   - In cases of no heating, they offer options for temporary heating solutions.\\n\\nMake sure to follow up with your insurer for specific procedures on how to manage the emergency situation under your homeowner insurance policy.\", expected_output='Detail answer on what covered/not covered for that accident based on policy, and make sure it is concise and straight to the point, using supporting information in context.\\n\\nIf your home assistance cover is unavailable during an emergency, you can phone the domestic emergency helpline on 01737 815927. AXA Assistance (UK) Limited will provide a referral to the nearest suitable tradesperson. You will be responsible for paying the tradesperson’s fees, but if the incident is covered by your homeowner insurance policy, you may submit a claim in the usual way. The homeowner insurance policy does not cover the tradesperson’s fees as it is a referral service; however, reimbursement may be possible if the incident aligns with policy coverage.', context=None, retrieval_context=['# Domestic Helpline\\n\\nIf you have chosen home assistance cover, then you may be covered for certain home emergency costs.\\n\\nYou should call the home assistance emergency helpline on: 0330 024 1259*\\n\\nIf you have not taken this section of cover you can phone the domestic emergency helpline on: 01737 815927*. AXA Assistance (UK) Limited will then put you in contact with the nearest suitable tradesperson.\\n\\nAs this is a referral service, any agreement entered into will be between you and the tradesperson; AXA Assistance (UK) Limited will not accept liability for any work carried out. You will be responsible for paying the tradesperson’s fees and for agreeing the scope and quality of the work they will carry out to fix the problem, but if the incident is covered by your policy you may submit a claim in the usual way.\\n\\n* Calls are recorded and/or monitored.\\n\\n# Maximum limits\\n\\na) **The value of your buildings.**\\n\\n- You must notify us as soon as possible if the full rebuilding cost of your buildings exceeds the amount shown in your policy schedule.\\n\\n- If the full rebuilding cost of your buildings exceeds this sum the cover under the policy will no longer meet your needs.\\n\\n- If the amount shown on your policy schedule represents less than 100% of the full rebuilding cost of your buildings, we will only be able to settle claims at the percentage you are insured for. For example, if the value of your buildings shown on your policy schedule only represents 70% of the full rebuilding cost then we will not pay more than 70% of your claim.\\n\\n- The full rebuilding cost of your buildings means the cost of rebuilding if the buildings were completely destroyed. This is not necessarily the market value.\\n\\nb) **The value of your contents.**\\n\\n- You must notify us as soon as possible if the full replacement value of your contents exceeds the amount shown in your policy schedule.\\n\\n- If the full replacement value of your contents exceeds this sum the cover under the policy will no longer meet your needs.\\n\\n- If the amount shown on your policy schedule represents less than 100% of the full replacement value of your contents, we will only be able to settle claims at the percentage you are insured for. For example, if the value of your contents shown on your policy schedule only represents 70% of the full replacement cost then we will not pay more than 70% of your claim.\\n\\n- The full replacement value of your contents means the current cost as new.', '# Home Insurance\\n\\n## Important information\\n\\n1. If you suffer an **emergency at your home** you should tell us on the **emergency** telephone number.\\n\\n   We will then:\\n\\n   a.) advise you about how to protect yourself and the home;\\n\\n   b.) validate your policy and arrange for one of our authorised contractors to get in touch with you to make an appointment, or to settle your claim on a reimbursement basis;\\n\\n   c.) we along with our authorised contractors under our delegated authority, will then manage your claim from that point onwards and keep you updated throughout your claim journey;\\n\\n   d.) we will organise and pay up to £1,000 per claim including VAT, call out, labour, parts and materials to carry out an emergency repair, or if at a similar expense a permanent repair;\\n\\n   e.) in the event of your home becoming uninhabitable and remaining so because of a covered event, we will contribute up to £250 including VAT towards the cost of your (including your pets) accommodation including transport. We will reimburse these costs to you;\\n\\n   f.) we would always recommend that you arrange for a permanent repair to be completed by a qualified tradesperson as soon as possible, once we have carried out an emergency repair and contained the emergency for you, as this may only provide a temporary solution to the problem.\\n\\n   If you have no heating and a part needs to be ordered following the engineer’s visit, or if we are unable to repair the boiler/heating system, you have the option to either purchase heaters up to a value of £50 including VAT, which we will reimburse you for, or alternatively we can deliver two temporary heaters to your home, these are yours to keep.\\n\\n## Cancelling your cover\\n\\nPlease refer to the ‘General conditions’ section of the ‘Essential Information’ document for details of the statutory cancellation rights and details when cancelling outside the statutory period.\\n\\n### Additional cancellation provisions\\n\\nAXA Insurance UK plc has the right to cancel your AXA Home policy by providing written notice to your current address under certain circumstances as detailed under the ‘General conditions’ section of the ‘Essential Information’ document.\\n\\nYour Home Assistance policy is sold as an optional extra to complement your AXA Home policy. If your AXA Home policy is cancelled by AXA Insurance UK plc or you then your Home Assistance policy will automatically be cancelled from the same date.'], additional_metadata=None, tools_called=None, comments=None, expected_tools=None, token_cost=None, completion_time=None, name=None, tags=None)]"
      ]
     },
     "execution_count": 19,
     "metadata": {},
     "output_type": "execute_result"
    }
   ],
   "source": [
    "test_cases"
   ]
  },
  {
   "cell_type": "code",
   "execution_count": 20,
   "id": "33c86bc5",
   "metadata": {},
   "outputs": [
    {
     "data": {
      "text/html": [
       "<pre style=\"white-space:pre;overflow-x:auto;line-height:normal;font-family:Menlo,'DejaVu Sans Mono',consolas,'Courier New',monospace\">✨ You're running DeepEval's latest <span style=\"color: #6a00ff; text-decoration-color: #6a00ff\">Answer Relevancy Metric</span>! <span style=\"color: #374151; text-decoration-color: #374151; font-weight: bold\">(</span><span style=\"color: #374151; text-decoration-color: #374151\">using gpt-4o, </span><span style=\"color: #374151; text-decoration-color: #374151\">strict</span><span style=\"color: #374151; text-decoration-color: #374151\">=</span><span style=\"color: #374151; text-decoration-color: #374151; font-style: italic\">False</span><span style=\"color: #374151; text-decoration-color: #374151\">, </span><span style=\"color: #374151; text-decoration-color: #374151\">async_mode</span><span style=\"color: #374151; text-decoration-color: #374151\">=</span><span style=\"color: #374151; text-decoration-color: #374151; font-style: italic\">True</span><span style=\"color: #374151; text-decoration-color: #374151; font-weight: bold\">)</span><span style=\"color: #374151; text-decoration-color: #374151\">...</span>\n",
       "</pre>\n"
      ],
      "text/plain": [
       "✨ You're running DeepEval's latest \u001b[38;2;106;0;255mAnswer Relevancy Metric\u001b[0m! \u001b[1;38;2;55;65;81m(\u001b[0m\u001b[38;2;55;65;81musing gpt-4o, \u001b[0m\u001b[38;2;55;65;81mstrict\u001b[0m\u001b[38;2;55;65;81m=\u001b[0m\u001b[3;38;2;55;65;81mFalse\u001b[0m\u001b[38;2;55;65;81m, \u001b[0m\u001b[38;2;55;65;81masync_mode\u001b[0m\u001b[38;2;55;65;81m=\u001b[0m\u001b[3;38;2;55;65;81mTrue\u001b[0m\u001b[1;38;2;55;65;81m)\u001b[0m\u001b[38;2;55;65;81m...\u001b[0m\n"
      ]
     },
     "metadata": {},
     "output_type": "display_data"
    },
    {
     "data": {
      "text/html": [
       "<pre style=\"white-space:pre;overflow-x:auto;line-height:normal;font-family:Menlo,'DejaVu Sans Mono',consolas,'Courier New',monospace\">c:\\Users\\sunny\\Desktop\\temp_env\\env2\\venv\\Lib\\site-packages\\rich\\live.py:231: UserWarning: install \"ipywidgets\" for\n",
       "Jupyter support\n",
       "  warnings.warn('install \"ipywidgets\" for Jupyter support')\n",
       "</pre>\n"
      ],
      "text/plain": [
       "c:\\Users\\sunny\\Desktop\\temp_env\\env2\\venv\\Lib\\site-packages\\rich\\live.py:231: UserWarning: install \"ipywidgets\" for\n",
       "Jupyter support\n",
       "  warnings.warn('install \"ipywidgets\" for Jupyter support')\n"
      ]
     },
     "metadata": {},
     "output_type": "display_data"
    },
    {
     "data": {
      "text/html": [
       "<pre style=\"white-space:pre;overflow-x:auto;line-height:normal;font-family:Menlo,'DejaVu Sans Mono',consolas,'Courier New',monospace\"></pre>\n"
      ],
      "text/plain": []
     },
     "metadata": {},
     "output_type": "display_data"
    },
    {
     "name": "stdout",
     "output_type": "stream",
     "text": [
      "\n",
      "======================================================================\n",
      "\n",
      "Metrics Summary\n",
      "\n",
      "  - ✅ Answer Relevancy (score: 0.6666666666666666, threshold: 0.5, strict: False, evaluation model: gpt-4o, reason: The score is 0.67 because while the response includes some relevant information about emergency contacts and services, it fails to directly address the specific question about alternative coverage under the homeowner insurance policy. The inclusion of unrelated details about tradespeople and AXA Assistance services detracts from the focus on insurance coverage, preventing a higher score., error: None)\n",
      "\n",
      "For test case:\n",
      "\n",
      "  - input: What steps should I take if my home assistance cover is unavailable during an emergency? Does my homeowner insurance policy provide any alternative coverage for such situations?\n",
      "  - actual output: If your home assistance cover is unavailable during an emergency, you can still seek help through your homeowner insurance policy. Here's what you can do:\n",
      "\n",
      "1. **Contact the Domestic Emergency Helpline**: If you have not taken home assistance cover, you should call the domestic emergency helpline at 01737 815927. AXA Assistance (UK) Limited will connect you with the nearest suitable tradesperson.\n",
      "\n",
      "2. **Liability and Payment**: Since this is a referral service, any agreement between you and the tradesperson is independent of AXA Assistance. You will be responsible for agreeing on the scope, quality, and cost of the work with the tradesperson.\n",
      "\n",
      "3. **Submit a Claim**: If the incident is covered by your homeowner insurance policy, you may submit a claim in the usual way for reimbursement or coverage of certain costs related to the emergency.\n",
      "\n",
      "4. **Emergency Coverage under Home Insurance**: Your homeowner insurance policy provides alternative coverage:\n",
      "   - They will manage your claim and potentially arrange for an authorized contractor to address the emergency.\n",
      "   - They can organize and pay up to £1,000 per claim for emergency or permanent repairs.\n",
      "   - If your home becomes uninhabitable due to a covered event, they will contribute up to £250 towards accommodation and transport costs.\n",
      "   - In cases of no heating, they offer options for temporary heating solutions.\n",
      "\n",
      "Make sure to follow up with your insurer for specific procedures on how to manage the emergency situation under your homeowner insurance policy.\n",
      "  - expected output: Detail answer on what covered/not covered for that accident based on policy, and make sure it is concise and straight to the point, using supporting information in context.\n",
      "\n",
      "If your home assistance cover is unavailable during an emergency, you can phone the domestic emergency helpline on 01737 815927. AXA Assistance (UK) Limited will provide a referral to the nearest suitable tradesperson. You will be responsible for paying the tradesperson’s fees, but if the incident is covered by your homeowner insurance policy, you may submit a claim in the usual way. The homeowner insurance policy does not cover the tradesperson’s fees as it is a referral service; however, reimbursement may be possible if the incident aligns with policy coverage.\n",
      "  - context: None\n",
      "  - retrieval context: ['# Domestic Helpline\\n\\nIf you have chosen home assistance cover, then you may be covered for certain home emergency costs.\\n\\nYou should call the home assistance emergency helpline on: 0330 024 1259*\\n\\nIf you have not taken this section of cover you can phone the domestic emergency helpline on: 01737 815927*. AXA Assistance (UK) Limited will then put you in contact with the nearest suitable tradesperson.\\n\\nAs this is a referral service, any agreement entered into will be between you and the tradesperson; AXA Assistance (UK) Limited will not accept liability for any work carried out. You will be responsible for paying the tradesperson’s fees and for agreeing the scope and quality of the work they will carry out to fix the problem, but if the incident is covered by your policy you may submit a claim in the usual way.\\n\\n* Calls are recorded and/or monitored.\\n\\n# Maximum limits\\n\\na) **The value of your buildings.**\\n\\n- You must notify us as soon as possible if the full rebuilding cost of your buildings exceeds the amount shown in your policy schedule.\\n\\n- If the full rebuilding cost of your buildings exceeds this sum the cover under the policy will no longer meet your needs.\\n\\n- If the amount shown on your policy schedule represents less than 100% of the full rebuilding cost of your buildings, we will only be able to settle claims at the percentage you are insured for. For example, if the value of your buildings shown on your policy schedule only represents 70% of the full rebuilding cost then we will not pay more than 70% of your claim.\\n\\n- The full rebuilding cost of your buildings means the cost of rebuilding if the buildings were completely destroyed. This is not necessarily the market value.\\n\\nb) **The value of your contents.**\\n\\n- You must notify us as soon as possible if the full replacement value of your contents exceeds the amount shown in your policy schedule.\\n\\n- If the full replacement value of your contents exceeds this sum the cover under the policy will no longer meet your needs.\\n\\n- If the amount shown on your policy schedule represents less than 100% of the full replacement value of your contents, we will only be able to settle claims at the percentage you are insured for. For example, if the value of your contents shown on your policy schedule only represents 70% of the full replacement cost then we will not pay more than 70% of your claim.\\n\\n- The full replacement value of your contents means the current cost as new.', '# Home Insurance\\n\\n## Important information\\n\\n1. If you suffer an **emergency at your home** you should tell us on the **emergency** telephone number.\\n\\n   We will then:\\n\\n   a.) advise you about how to protect yourself and the home;\\n\\n   b.) validate your policy and arrange for one of our authorised contractors to get in touch with you to make an appointment, or to settle your claim on a reimbursement basis;\\n\\n   c.) we along with our authorised contractors under our delegated authority, will then manage your claim from that point onwards and keep you updated throughout your claim journey;\\n\\n   d.) we will organise and pay up to £1,000 per claim including VAT, call out, labour, parts and materials to carry out an emergency repair, or if at a similar expense a permanent repair;\\n\\n   e.) in the event of your home becoming uninhabitable and remaining so because of a covered event, we will contribute up to £250 including VAT towards the cost of your (including your pets) accommodation including transport. We will reimburse these costs to you;\\n\\n   f.) we would always recommend that you arrange for a permanent repair to be completed by a qualified tradesperson as soon as possible, once we have carried out an emergency repair and contained the emergency for you, as this may only provide a temporary solution to the problem.\\n\\n   If you have no heating and a part needs to be ordered following the engineer’s visit, or if we are unable to repair the boiler/heating system, you have the option to either purchase heaters up to a value of £50 including VAT, which we will reimburse you for, or alternatively we can deliver two temporary heaters to your home, these are yours to keep.\\n\\n## Cancelling your cover\\n\\nPlease refer to the ‘General conditions’ section of the ‘Essential Information’ document for details of the statutory cancellation rights and details when cancelling outside the statutory period.\\n\\n### Additional cancellation provisions\\n\\nAXA Insurance UK plc has the right to cancel your AXA Home policy by providing written notice to your current address under certain circumstances as detailed under the ‘General conditions’ section of the ‘Essential Information’ document.\\n\\nYour Home Assistance policy is sold as an optional extra to complement your AXA Home policy. If your AXA Home policy is cancelled by AXA Insurance UK plc or you then your Home Assistance policy will automatically be cancelled from the same date.']\n",
      "\n",
      "======================================================================\n",
      "\n",
      "Overall Metric Pass Rates\n",
      "\n",
      "Answer Relevancy: 100.00% pass rate\n",
      "\n",
      "======================================================================\n",
      "\n"
     ]
    },
    {
     "data": {
      "text/html": [
       "<pre style=\"white-space:pre;overflow-x:auto;line-height:normal;font-family:Menlo,'DejaVu Sans Mono',consolas,'Courier New',monospace\">\n",
       "<span style=\"color: #05f58d; text-decoration-color: #05f58d\">✓</span> Tests finished 🎉! Run <span style=\"color: #008000; text-decoration-color: #008000; font-weight: bold\">'deepeval view'</span> to analyze, debug, and save evaluation results on <span style=\"color: #6a00ff; text-decoration-color: #6a00ff\">Confident AI</span>.\n",
       "\n",
       "</pre>\n"
      ],
      "text/plain": [
       "\n",
       "\u001b[38;2;5;245;141m✓\u001b[0m Tests finished 🎉! Run \u001b[1;32m'deepeval view'\u001b[0m to analyze, debug, and save evaluation results on \u001b[38;2;106;0;255mConfident AI\u001b[0m.\n",
       "\n"
      ]
     },
     "metadata": {},
     "output_type": "display_data"
    }
   ],
   "source": [
    "results = evaluate(\n",
    "            test_cases=test_cases,\n",
    "            metrics=[\n",
    "                AnswerRelevancyMetric()\n",
    "                \n",
    "            ]\n",
    "        )"
   ]
  },
  {
   "cell_type": "code",
   "execution_count": 45,
   "id": "937e1c01",
   "metadata": {},
   "outputs": [],
   "source": [
    "res3,res2=results"
   ]
  },
  {
   "cell_type": "code",
   "execution_count": 46,
   "id": "0bc0fe68",
   "metadata": {},
   "outputs": [
    {
     "data": {
      "text/plain": [
       "('test_results',\n",
       " [TestResult(name='test_case_0', success=True, metrics_data=[MetricData(name='Answer Relevancy', threshold=0.5, success=True, score=0.6666666666666666, reason='The score is 0.67 because while the response includes some relevant information about emergency contacts and services, it fails to directly address the specific question about alternative coverage under the homeowner insurance policy. The inclusion of unrelated details about tradespeople and AXA Assistance services detracts from the focus on insurance coverage, preventing a higher score.', strict_mode=False, evaluation_model='gpt-4o', error=None, evaluation_cost=0.009142500000000001, verbose_logs='Statements:\\n[\\n    \"If home assistance cover is unavailable during an emergency, seek help through your homeowner insurance policy.\",\\n    \"Call the domestic emergency helpline at 01737 815927 if you have not taken home assistance cover.\",\\n    \"AXA Assistance (UK) Limited will connect you with the nearest suitable tradesperson.\",\\n    \"Any agreement between you and the tradesperson is independent of AXA Assistance.\",\\n    \"You are responsible for agreeing on the scope, quality, and cost of the work with the tradesperson.\",\\n    \"Submit a claim if the incident is covered by your homeowner insurance policy.\",\\n    \"Your homeowner insurance policy provides alternative coverage.\",\\n    \"They will manage your claim and potentially arrange for an authorized contractor to address the emergency.\",\\n    \"They can organize and pay up to £1,000 per claim for emergency or permanent repairs.\",\\n    \"If your home becomes uninhabitable due to a covered event, they will contribute up to £250 towards accommodation and transport costs.\",\\n    \"In cases of no heating, they offer options for temporary heating solutions.\",\\n    \"Follow up with your insurer for specific procedures on managing the emergency situation under your homeowner insurance policy.\"\\n] \\n \\nVerdicts:\\n[\\n    {\\n        \"verdict\": \"yes\",\\n        \"reason\": null\\n    },\\n    {\\n        \"verdict\": \"no\",\\n        \"reason\": \"The statement provides a contact number for emergencies but does not address the insurance policy coverage.\"\\n    },\\n    {\\n        \"verdict\": \"no\",\\n        \"reason\": \"This statement is about AXA Assistance services, not about homeowner insurance policy coverage.\"\\n    },\\n    {\\n        \"verdict\": \"no\",\\n        \"reason\": \"The statement discusses the relationship with tradespeople, not insurance coverage.\"\\n    },\\n    {\\n        \"verdict\": \"no\",\\n        \"reason\": \"This statement is about negotiating with tradespeople, not about insurance coverage.\"\\n    },\\n    {\\n        \"verdict\": \"yes\",\\n        \"reason\": null\\n    },\\n    {\\n        \"verdict\": \"yes\",\\n        \"reason\": null\\n    },\\n    {\\n        \"verdict\": \"yes\",\\n        \"reason\": null\\n    },\\n    {\\n        \"verdict\": \"yes\",\\n        \"reason\": null\\n    },\\n    {\\n        \"verdict\": \"yes\",\\n        \"reason\": null\\n    },\\n    {\\n        \"verdict\": \"yes\",\\n        \"reason\": null\\n    },\\n    {\\n        \"verdict\": \"yes\",\\n        \"reason\": null\\n    }\\n]')], conversational=False, multimodal=False, input='What steps should I take if my home assistance cover is unavailable during an emergency? Does my homeowner insurance policy provide any alternative coverage for such situations?', actual_output=\"If your home assistance cover is unavailable during an emergency, you can still seek help through your homeowner insurance policy. Here's what you can do:\\n\\n1. **Contact the Domestic Emergency Helpline**: If you have not taken home assistance cover, you should call the domestic emergency helpline at 01737 815927. AXA Assistance (UK) Limited will connect you with the nearest suitable tradesperson.\\n\\n2. **Liability and Payment**: Since this is a referral service, any agreement between you and the tradesperson is independent of AXA Assistance. You will be responsible for agreeing on the scope, quality, and cost of the work with the tradesperson.\\n\\n3. **Submit a Claim**: If the incident is covered by your homeowner insurance policy, you may submit a claim in the usual way for reimbursement or coverage of certain costs related to the emergency.\\n\\n4. **Emergency Coverage under Home Insurance**: Your homeowner insurance policy provides alternative coverage:\\n   - They will manage your claim and potentially arrange for an authorized contractor to address the emergency.\\n   - They can organize and pay up to £1,000 per claim for emergency or permanent repairs.\\n   - If your home becomes uninhabitable due to a covered event, they will contribute up to £250 towards accommodation and transport costs.\\n   - In cases of no heating, they offer options for temporary heating solutions.\\n\\nMake sure to follow up with your insurer for specific procedures on how to manage the emergency situation under your homeowner insurance policy.\", expected_output='Detail answer on what covered/not covered for that accident based on policy, and make sure it is concise and straight to the point, using supporting information in context.\\n\\nIf your home assistance cover is unavailable during an emergency, you can phone the domestic emergency helpline on 01737 815927. AXA Assistance (UK) Limited will provide a referral to the nearest suitable tradesperson. You will be responsible for paying the tradesperson’s fees, but if the incident is covered by your homeowner insurance policy, you may submit a claim in the usual way. The homeowner insurance policy does not cover the tradesperson’s fees as it is a referral service; however, reimbursement may be possible if the incident aligns with policy coverage.', context=None, retrieval_context=['# Domestic Helpline\\n\\nIf you have chosen home assistance cover, then you may be covered for certain home emergency costs.\\n\\nYou should call the home assistance emergency helpline on: 0330 024 1259*\\n\\nIf you have not taken this section of cover you can phone the domestic emergency helpline on: 01737 815927*. AXA Assistance (UK) Limited will then put you in contact with the nearest suitable tradesperson.\\n\\nAs this is a referral service, any agreement entered into will be between you and the tradesperson; AXA Assistance (UK) Limited will not accept liability for any work carried out. You will be responsible for paying the tradesperson’s fees and for agreeing the scope and quality of the work they will carry out to fix the problem, but if the incident is covered by your policy you may submit a claim in the usual way.\\n\\n* Calls are recorded and/or monitored.\\n\\n# Maximum limits\\n\\na) **The value of your buildings.**\\n\\n- You must notify us as soon as possible if the full rebuilding cost of your buildings exceeds the amount shown in your policy schedule.\\n\\n- If the full rebuilding cost of your buildings exceeds this sum the cover under the policy will no longer meet your needs.\\n\\n- If the amount shown on your policy schedule represents less than 100% of the full rebuilding cost of your buildings, we will only be able to settle claims at the percentage you are insured for. For example, if the value of your buildings shown on your policy schedule only represents 70% of the full rebuilding cost then we will not pay more than 70% of your claim.\\n\\n- The full rebuilding cost of your buildings means the cost of rebuilding if the buildings were completely destroyed. This is not necessarily the market value.\\n\\nb) **The value of your contents.**\\n\\n- You must notify us as soon as possible if the full replacement value of your contents exceeds the amount shown in your policy schedule.\\n\\n- If the full replacement value of your contents exceeds this sum the cover under the policy will no longer meet your needs.\\n\\n- If the amount shown on your policy schedule represents less than 100% of the full replacement value of your contents, we will only be able to settle claims at the percentage you are insured for. For example, if the value of your contents shown on your policy schedule only represents 70% of the full replacement cost then we will not pay more than 70% of your claim.\\n\\n- The full replacement value of your contents means the current cost as new.', '# Home Insurance\\n\\n## Important information\\n\\n1. If you suffer an **emergency at your home** you should tell us on the **emergency** telephone number.\\n\\n   We will then:\\n\\n   a.) advise you about how to protect yourself and the home;\\n\\n   b.) validate your policy and arrange for one of our authorised contractors to get in touch with you to make an appointment, or to settle your claim on a reimbursement basis;\\n\\n   c.) we along with our authorised contractors under our delegated authority, will then manage your claim from that point onwards and keep you updated throughout your claim journey;\\n\\n   d.) we will organise and pay up to £1,000 per claim including VAT, call out, labour, parts and materials to carry out an emergency repair, or if at a similar expense a permanent repair;\\n\\n   e.) in the event of your home becoming uninhabitable and remaining so because of a covered event, we will contribute up to £250 including VAT towards the cost of your (including your pets) accommodation including transport. We will reimburse these costs to you;\\n\\n   f.) we would always recommend that you arrange for a permanent repair to be completed by a qualified tradesperson as soon as possible, once we have carried out an emergency repair and contained the emergency for you, as this may only provide a temporary solution to the problem.\\n\\n   If you have no heating and a part needs to be ordered following the engineer’s visit, or if we are unable to repair the boiler/heating system, you have the option to either purchase heaters up to a value of £50 including VAT, which we will reimburse you for, or alternatively we can deliver two temporary heaters to your home, these are yours to keep.\\n\\n## Cancelling your cover\\n\\nPlease refer to the ‘General conditions’ section of the ‘Essential Information’ document for details of the statutory cancellation rights and details when cancelling outside the statutory period.\\n\\n### Additional cancellation provisions\\n\\nAXA Insurance UK plc has the right to cancel your AXA Home policy by providing written notice to your current address under certain circumstances as detailed under the ‘General conditions’ section of the ‘Essential Information’ document.\\n\\nYour Home Assistance policy is sold as an optional extra to complement your AXA Home policy. If your AXA Home policy is cancelled by AXA Insurance UK plc or you then your Home Assistance policy will automatically be cancelled from the same date.'], additional_metadata=None)])"
      ]
     },
     "execution_count": 46,
     "metadata": {},
     "output_type": "execute_result"
    }
   ],
   "source": [
    "res3"
   ]
  },
  {
   "cell_type": "code",
   "execution_count": 47,
   "id": "d3dcf728",
   "metadata": {},
   "outputs": [
    {
     "data": {
      "text/plain": [
       "('confident_link', None)"
      ]
     },
     "execution_count": 47,
     "metadata": {},
     "output_type": "execute_result"
    }
   ],
   "source": [
    "res2"
   ]
  },
  {
   "cell_type": "code",
   "execution_count": 33,
   "id": "0a7277db",
   "metadata": {},
   "outputs": [],
   "source": [
    "res,_ = results"
   ]
  },
  {
   "cell_type": "code",
   "execution_count": 40,
   "id": "aa3bebcd",
   "metadata": {},
   "outputs": [],
   "source": [
    "_,res1=res"
   ]
  },
  {
   "cell_type": "code",
   "execution_count": 73,
   "id": "aa2cb3e8",
   "metadata": {},
   "outputs": [
    {
     "data": {
      "text/plain": [
       "('test_results',\n",
       " [TestResult(name='test_case_0', success=True, metrics_data=[MetricData(name='Answer Relevancy', threshold=0.5, success=True, score=0.6666666666666666, reason='The score is 0.67 because while the response includes some relevant information about emergency contacts and services, it fails to directly address the specific question about alternative coverage under the homeowner insurance policy. The inclusion of unrelated details about tradespeople and AXA Assistance services detracts from the focus on insurance coverage, preventing a higher score.', strict_mode=False, evaluation_model='gpt-4o', error=None, evaluation_cost=0.009142500000000001, verbose_logs='Statements:\\n[\\n    \"If home assistance cover is unavailable during an emergency, seek help through your homeowner insurance policy.\",\\n    \"Call the domestic emergency helpline at 01737 815927 if you have not taken home assistance cover.\",\\n    \"AXA Assistance (UK) Limited will connect you with the nearest suitable tradesperson.\",\\n    \"Any agreement between you and the tradesperson is independent of AXA Assistance.\",\\n    \"You are responsible for agreeing on the scope, quality, and cost of the work with the tradesperson.\",\\n    \"Submit a claim if the incident is covered by your homeowner insurance policy.\",\\n    \"Your homeowner insurance policy provides alternative coverage.\",\\n    \"They will manage your claim and potentially arrange for an authorized contractor to address the emergency.\",\\n    \"They can organize and pay up to £1,000 per claim for emergency or permanent repairs.\",\\n    \"If your home becomes uninhabitable due to a covered event, they will contribute up to £250 towards accommodation and transport costs.\",\\n    \"In cases of no heating, they offer options for temporary heating solutions.\",\\n    \"Follow up with your insurer for specific procedures on managing the emergency situation under your homeowner insurance policy.\"\\n] \\n \\nVerdicts:\\n[\\n    {\\n        \"verdict\": \"yes\",\\n        \"reason\": null\\n    },\\n    {\\n        \"verdict\": \"no\",\\n        \"reason\": \"The statement provides a contact number for emergencies but does not address the insurance policy coverage.\"\\n    },\\n    {\\n        \"verdict\": \"no\",\\n        \"reason\": \"This statement is about AXA Assistance services, not about homeowner insurance policy coverage.\"\\n    },\\n    {\\n        \"verdict\": \"no\",\\n        \"reason\": \"The statement discusses the relationship with tradespeople, not insurance coverage.\"\\n    },\\n    {\\n        \"verdict\": \"no\",\\n        \"reason\": \"This statement is about negotiating with tradespeople, not about insurance coverage.\"\\n    },\\n    {\\n        \"verdict\": \"yes\",\\n        \"reason\": null\\n    },\\n    {\\n        \"verdict\": \"yes\",\\n        \"reason\": null\\n    },\\n    {\\n        \"verdict\": \"yes\",\\n        \"reason\": null\\n    },\\n    {\\n        \"verdict\": \"yes\",\\n        \"reason\": null\\n    },\\n    {\\n        \"verdict\": \"yes\",\\n        \"reason\": null\\n    },\\n    {\\n        \"verdict\": \"yes\",\\n        \"reason\": null\\n    },\\n    {\\n        \"verdict\": \"yes\",\\n        \"reason\": null\\n    }\\n]')], conversational=False, multimodal=False, input='What steps should I take if my home assistance cover is unavailable during an emergency? Does my homeowner insurance policy provide any alternative coverage for such situations?', actual_output=\"If your home assistance cover is unavailable during an emergency, you can still seek help through your homeowner insurance policy. Here's what you can do:\\n\\n1. **Contact the Domestic Emergency Helpline**: If you have not taken home assistance cover, you should call the domestic emergency helpline at 01737 815927. AXA Assistance (UK) Limited will connect you with the nearest suitable tradesperson.\\n\\n2. **Liability and Payment**: Since this is a referral service, any agreement between you and the tradesperson is independent of AXA Assistance. You will be responsible for agreeing on the scope, quality, and cost of the work with the tradesperson.\\n\\n3. **Submit a Claim**: If the incident is covered by your homeowner insurance policy, you may submit a claim in the usual way for reimbursement or coverage of certain costs related to the emergency.\\n\\n4. **Emergency Coverage under Home Insurance**: Your homeowner insurance policy provides alternative coverage:\\n   - They will manage your claim and potentially arrange for an authorized contractor to address the emergency.\\n   - They can organize and pay up to £1,000 per claim for emergency or permanent repairs.\\n   - If your home becomes uninhabitable due to a covered event, they will contribute up to £250 towards accommodation and transport costs.\\n   - In cases of no heating, they offer options for temporary heating solutions.\\n\\nMake sure to follow up with your insurer for specific procedures on how to manage the emergency situation under your homeowner insurance policy.\", expected_output='Detail answer on what covered/not covered for that accident based on policy, and make sure it is concise and straight to the point, using supporting information in context.\\n\\nIf your home assistance cover is unavailable during an emergency, you can phone the domestic emergency helpline on 01737 815927. AXA Assistance (UK) Limited will provide a referral to the nearest suitable tradesperson. You will be responsible for paying the tradesperson’s fees, but if the incident is covered by your homeowner insurance policy, you may submit a claim in the usual way. The homeowner insurance policy does not cover the tradesperson’s fees as it is a referral service; however, reimbursement may be possible if the incident aligns with policy coverage.', context=None, retrieval_context=['# Domestic Helpline\\n\\nIf you have chosen home assistance cover, then you may be covered for certain home emergency costs.\\n\\nYou should call the home assistance emergency helpline on: 0330 024 1259*\\n\\nIf you have not taken this section of cover you can phone the domestic emergency helpline on: 01737 815927*. AXA Assistance (UK) Limited will then put you in contact with the nearest suitable tradesperson.\\n\\nAs this is a referral service, any agreement entered into will be between you and the tradesperson; AXA Assistance (UK) Limited will not accept liability for any work carried out. You will be responsible for paying the tradesperson’s fees and for agreeing the scope and quality of the work they will carry out to fix the problem, but if the incident is covered by your policy you may submit a claim in the usual way.\\n\\n* Calls are recorded and/or monitored.\\n\\n# Maximum limits\\n\\na) **The value of your buildings.**\\n\\n- You must notify us as soon as possible if the full rebuilding cost of your buildings exceeds the amount shown in your policy schedule.\\n\\n- If the full rebuilding cost of your buildings exceeds this sum the cover under the policy will no longer meet your needs.\\n\\n- If the amount shown on your policy schedule represents less than 100% of the full rebuilding cost of your buildings, we will only be able to settle claims at the percentage you are insured for. For example, if the value of your buildings shown on your policy schedule only represents 70% of the full rebuilding cost then we will not pay more than 70% of your claim.\\n\\n- The full rebuilding cost of your buildings means the cost of rebuilding if the buildings were completely destroyed. This is not necessarily the market value.\\n\\nb) **The value of your contents.**\\n\\n- You must notify us as soon as possible if the full replacement value of your contents exceeds the amount shown in your policy schedule.\\n\\n- If the full replacement value of your contents exceeds this sum the cover under the policy will no longer meet your needs.\\n\\n- If the amount shown on your policy schedule represents less than 100% of the full replacement value of your contents, we will only be able to settle claims at the percentage you are insured for. For example, if the value of your contents shown on your policy schedule only represents 70% of the full replacement cost then we will not pay more than 70% of your claim.\\n\\n- The full replacement value of your contents means the current cost as new.', '# Home Insurance\\n\\n## Important information\\n\\n1. If you suffer an **emergency at your home** you should tell us on the **emergency** telephone number.\\n\\n   We will then:\\n\\n   a.) advise you about how to protect yourself and the home;\\n\\n   b.) validate your policy and arrange for one of our authorised contractors to get in touch with you to make an appointment, or to settle your claim on a reimbursement basis;\\n\\n   c.) we along with our authorised contractors under our delegated authority, will then manage your claim from that point onwards and keep you updated throughout your claim journey;\\n\\n   d.) we will organise and pay up to £1,000 per claim including VAT, call out, labour, parts and materials to carry out an emergency repair, or if at a similar expense a permanent repair;\\n\\n   e.) in the event of your home becoming uninhabitable and remaining so because of a covered event, we will contribute up to £250 including VAT towards the cost of your (including your pets) accommodation including transport. We will reimburse these costs to you;\\n\\n   f.) we would always recommend that you arrange for a permanent repair to be completed by a qualified tradesperson as soon as possible, once we have carried out an emergency repair and contained the emergency for you, as this may only provide a temporary solution to the problem.\\n\\n   If you have no heating and a part needs to be ordered following the engineer’s visit, or if we are unable to repair the boiler/heating system, you have the option to either purchase heaters up to a value of £50 including VAT, which we will reimburse you for, or alternatively we can deliver two temporary heaters to your home, these are yours to keep.\\n\\n## Cancelling your cover\\n\\nPlease refer to the ‘General conditions’ section of the ‘Essential Information’ document for details of the statutory cancellation rights and details when cancelling outside the statutory period.\\n\\n### Additional cancellation provisions\\n\\nAXA Insurance UK plc has the right to cancel your AXA Home policy by providing written notice to your current address under certain circumstances as detailed under the ‘General conditions’ section of the ‘Essential Information’ document.\\n\\nYour Home Assistance policy is sold as an optional extra to complement your AXA Home policy. If your AXA Home policy is cancelled by AXA Insurance UK plc or you then your Home Assistance policy will automatically be cancelled from the same date.'], additional_metadata=None)])"
      ]
     },
     "execution_count": 73,
     "metadata": {},
     "output_type": "execute_result"
    }
   ],
   "source": [
    "res1"
   ]
  },
  {
   "cell_type": "code",
   "execution_count": null,
   "id": "6fecaf44",
   "metadata": {},
   "outputs": [
    {
     "name": "stdout",
     "output_type": "stream",
     "text": [
      "test_case_0\n",
      "What steps should I take if my home assistance cover is unavailable during an emergency? Does my homeowner insurance policy provide any alternative coverage for such situations?\n",
      "Detail answer on what covered/not covered for that accident based on policy, and make sure it is concise and straight to the point, using supporting information in context.\n",
      "\n",
      "If your home assistance cover is unavailable during an emergency, you can phone the domestic emergency helpline on 01737 815927. AXA Assistance (UK) Limited will provide a referral to the nearest suitable tradesperson. You will be responsible for paying the tradesperson’s fees, but if the incident is covered by your homeowner insurance policy, you may submit a claim in the usual way. The homeowner insurance policy does not cover the tradesperson’s fees as it is a referral service; however, reimbursement may be possible if the incident aligns with policy coverage.\n",
      "If your home assistance cover is unavailable during an emergency, you can still seek help through your homeowner insurance policy. Here's what you can do:\n",
      "\n",
      "1. **Contact the Domestic Emergency Helpline**: If you have not taken home assistance cover, you should call the domestic emergency helpline at 01737 815927. AXA Assistance (UK) Limited will connect you with the nearest suitable tradesperson.\n",
      "\n",
      "2. **Liability and Payment**: Since this is a referral service, any agreement between you and the tradesperson is independent of AXA Assistance. You will be responsible for agreeing on the scope, quality, and cost of the work with the tradesperson.\n",
      "\n",
      "3. **Submit a Claim**: If the incident is covered by your homeowner insurance policy, you may submit a claim in the usual way for reimbursement or coverage of certain costs related to the emergency.\n",
      "\n",
      "4. **Emergency Coverage under Home Insurance**: Your homeowner insurance policy provides alternative coverage:\n",
      "   - They will manage your claim and potentially arrange for an authorized contractor to address the emergency.\n",
      "   - They can organize and pay up to £1,000 per claim for emergency or permanent repairs.\n",
      "   - If your home becomes uninhabitable due to a covered event, they will contribute up to £250 towards accommodation and transport costs.\n",
      "   - In cases of no heating, they offer options for temporary heating solutions.\n",
      "\n",
      "Make sure to follow up with your insurer for specific procedures on how to manage the emergency situation under your homeowner insurance policy.\n",
      "True\n",
      "Answer Relevancy\n",
      "0.6666666666666666\n",
      "The score is 0.67 because while the response includes some relevant information about emergency contacts and services, it fails to directly address the specific question about alternative coverage under the homeowner insurance policy. The inclusion of unrelated details about tradespeople and AXA Assistance services detracts from the focus on insurance coverage, preventing a higher score.\n"
     ]
    }
   ],
   "source": [
    "rows = []\n",
    "for case in res1:\n",
    "    print(case.name)\n",
    "    print(case.input)\n",
    "    print(case.expected_output)\n",
    "    print(case.actual_output)\n",
    "    print(case.success)\n",
    "   # print(case.passed)\n",
    "    for met in case.metrics_data:\n",
    "        print(met.name)\n",
    "        print(met.score)\n",
    "        print(met.cost)\n",
    "        print(met.reason)\n",
    "    \n"
   ]
  },
  {
   "cell_type": "code",
   "execution_count": 71,
   "id": "3e586986",
   "metadata": {},
   "outputs": [],
   "source": [
    "from datetime import datetime\n",
    "import pandas as pd\n",
    "import json"
   ]
  },
  {
   "cell_type": "code",
   "execution_count": 74,
   "id": "ab1f6c49",
   "metadata": {},
   "outputs": [
    {
     "name": "stdout",
     "output_type": "stream",
     "text": [
      "💾 Saving results...\n",
      "✅ Evaluation completed.\n",
      "🟢 Passed 1/1 test cases\n"
     ]
    }
   ],
   "source": [
    "#Creating file with current timestamp\n",
    "timestamp = datetime.now().strftime(\"%Y-%m-%d_%H-%M-%S\")\n",
    "version_dir = f\"../../data/evaluation_results/{timestamp}\"\n",
    "os.makedirs(version_dir, exist_ok=True)\n",
    "\n",
    "res1,res2=results\n",
    "_,res3=res1\n",
    "#Extracting test results in list\n",
    "rows = []\n",
    "for case in res3:\n",
    "    for met in case.metrics_data:\n",
    "        rows.append({\n",
    "            \"TestCase\":case.name,\n",
    "            \"Input\": case.input,\n",
    "            \"Expected Output\": case.expected_output,\n",
    "            \"Actual Output\": case.actual_output,\n",
    "            \"Success\":case.success,\n",
    "            \"Matrics\": met.name,\n",
    "            \"Score\": met.score,\n",
    "            \"Reason\": met.reason,\n",
    "            \"Cost\":met.evaluation_cost\n",
    "        })\n",
    "\n",
    "#Creating csv file if not exists\n",
    "if not os.path.exists(os.path.dirname(f\"{version_dir}/results.csv\")):\n",
    "    os.makedirs(os.path.dirname(f\"{version_dir}/results.csv\"))\n",
    "\n",
    "#saving data to csv file\n",
    "print(\"💾 Saving results...\")\n",
    "pd.DataFrame(rows).to_csv(f\"{version_dir}/results.csv\", index=False)\n",
    "\n",
    "#Creating file if not exists\n",
    "if not os.path.exists(os.path.dirname(f\"{version_dir}/results.json\")):\n",
    "    os.makedirs(os.path.dirname(f\"{version_dir}/results.json\"))\n",
    "#saving data to json file\n",
    "with open(f\"{version_dir}/results.json\", \"w\") as f:\n",
    "    json.dump(rows, f, indent=2)\n",
    "\n",
    "#Creating file if not exists\n",
    "if not os.path.exists(os.path.dirname(f\"{version_dir}/results.md\")):\n",
    "    os.makedirs(os.path.dirname(f\"{version_dir}/results.md\"))\n",
    "#saving data to md file\n",
    "with open(f\"{version_dir}/results.md\", \"w\") as f:\n",
    "    f.write(\"# RAG Evaluation Report\\n\")\n",
    "    f.write(f\"**Run Time**: {timestamp}\\n\")\n",
    "    f.write(f\"**Dataset**: {version_dir}/results.md\\n\")\n",
    "    f.write(f\"**LLM Model**: gpt \\n\\n\")\n",
    "\n",
    "    for i, case in enumerate(res3, 1):\n",
    "        f.write(f\"### Test Case {i}\\n\")\n",
    "        f.write(f\"- **Input**: {case.input}\\n\")\n",
    "        f.write(f\"- **Expected**: {case.expected_output}\\n\")\n",
    "        f.write(f\"- **Actual**: {case.actual_output}\\n\")\n",
    "        f.write(f\"- **Success**: {case.success}\\n\")\n",
    "        for met in case.metrics_data:\n",
    "            f.write(f\"#### Metrics Data \\n\")\n",
    "            f.write(f\"- **Metrics**: {met.name}\\n\")\n",
    "            f.write(f\"- **Score**: {met.score}\\n\")\n",
    "            f.write(f\"- *Cost**: {met.evaluation_cost:.4f}$\\n\\n\")\n",
    "            f.write(f\"- **Reason**: {met.reason}\\n\\n\")\n",
    "\n",
    "print(\"✅ Evaluation completed.\")\n",
    "print(f\"🟢 Passed {sum(c.success for c in res3)}/{len(res3)} test cases\")"
   ]
  }
 ],
 "metadata": {
  "kernelspec": {
   "display_name": "Python 3",
   "language": "python",
   "name": "python3"
  },
  "language_info": {
   "codemirror_mode": {
    "name": "ipython",
    "version": 3
   },
   "file_extension": ".py",
   "mimetype": "text/x-python",
   "name": "python",
   "nbconvert_exporter": "python",
   "pygments_lexer": "ipython3",
   "version": "3.12.0"
  }
 },
 "nbformat": 4,
 "nbformat_minor": 5
}
